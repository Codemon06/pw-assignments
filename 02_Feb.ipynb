{
 "cells": [
  {
   "cell_type": "raw",
   "id": "b7299ff8",
   "metadata": {},
   "source": [
    "# Question 1\n",
    "-> 'for' loop is used when the number of iterations are known. We just need to mention the upper bound.\n",
    "    Code: \n",
    "    l1 = [1,2,3,4,5,6]\n",
    "    for i in l1:\n",
    "        print(i)\n",
    "    \n",
    "-> 'while' loop is used when the number of iterations are unknown. We do not know how many time our loop will run.\n",
    "    Code:\n",
    "    n = int(input(\"Enter number: \"))\n",
    "    s = 0\n",
    "    while(n>0):\n",
    "        s += n%10\n",
    "        n = n/10\n",
    "    print(\"Reverse number is: \", s)"
   ]
  },
  {
   "cell_type": "code",
   "execution_count": 2,
   "id": "9ef0e6a2",
   "metadata": {},
   "outputs": [
    {
     "name": "stdout",
     "output_type": "stream",
     "text": [
      "Sum is :  55\n",
      "Product is :  3628800\n"
     ]
    }
   ],
   "source": [
    "#Question 2\n",
    "\n",
    "s = 0\n",
    "p = 1\n",
    "for i in range(1,11):\n",
    "    s += i\n",
    "    p *= i\n",
    "print(\"Sum is : \", s)\n",
    "print(\"Product is : \", p)"
   ]
  },
  {
   "cell_type": "code",
   "execution_count": 1,
   "id": "0902b37c",
   "metadata": {},
   "outputs": [
    {
     "name": "stdout",
     "output_type": "stream",
     "text": [
      "Enter the number of units consumed: 310\n",
      "Electicity bill is :  2250.0\n"
     ]
    }
   ],
   "source": [
    "#Question 3\n",
    "\n",
    "nou = int(input(\"Enter the number of units consumed: \"))\n",
    "charge = 0\n",
    "if nou<=100:\n",
    "    charge = nou*4.5\n",
    "elif nou>100 and nou<=200:\n",
    "    charge = (nou-100)*6 + (100*4.5)\n",
    "elif nou>200 and nou<=300:\n",
    "    charge = (nou-200)*10 + (100*6) + (100*4.5)\n",
    "else:\n",
    "    charge = (nou-300)*20 + (100*10) + (100*6) + (100*4.5)\n",
    "print(\"Electicity bill is : \", charge)"
   ]
  },
  {
   "cell_type": "code",
   "execution_count": 8,
   "id": "e5a5212e",
   "metadata": {},
   "outputs": [
    {
     "name": "stdout",
     "output_type": "stream",
     "text": [
      "Using for loop: \n",
      "\n",
      "[2, 4, 5, 6, 8, 10, 12, 14, 15, 16, 18, 20, 22, 24, 25, 26, 28, 30, 32, 34, 35, 36, 38, 40, 42, 44, 45, 46, 48, 50, 52, 54, 55, 56, 58, 60, 62, 64, 65, 66, 68, 70, 72, 74, 75, 76, 78, 80, 82, 84, 85, 86, 88, 90, 92, 94, 95, 96, 98, 100]\n",
      "\n",
      "\n",
      "Using while loop: \n",
      "\n",
      "[2, 4, 5, 6, 8, 10, 12, 14, 15, 16, 18, 20, 22, 24, 25, 26, 28, 30, 32, 34, 35, 36, 38, 40, 42, 44, 45, 46, 48, 50, 52, 54, 55, 56, 58, 60, 62, 64, 65, 66, 68, 70, 72, 74, 75, 76, 78, 80, 82, 84, 85, 86, 88, 90, 92, 94, 95, 96, 98, 100]\n"
     ]
    }
   ],
   "source": [
    "#Question 4\n",
    "\n",
    "l1 = list(range(1,101))\n",
    "for_list = [] #list used in for loop\n",
    "while_list = [] #list used in while loop\n",
    "\n",
    "#USING FOR LOOP\n",
    "print(\"Using for loop: \\n\")\n",
    "for i in l1:\n",
    "    a = i*i*i\n",
    "    if(a%4 == 0 or a%5 == 0):\n",
    "        for_list.append(i)\n",
    "print(for_list)\n",
    "\n",
    "#USING WHILE LOOP\n",
    "print(\"\\n\\nUsing while loop: \\n\")\n",
    "j = 0\n",
    "while(j<len(l1)):\n",
    "    a = l1[j]*l1[j]*l1[j]\n",
    "    if(a%4 == 0 or a%5 == 0):\n",
    "        while_list.append(l1[j])\n",
    "    j += 1\n",
    "print(while_list)"
   ]
  },
  {
   "cell_type": "code",
   "execution_count": 9,
   "id": "241957ec",
   "metadata": {},
   "outputs": [
    {
     "name": "stdout",
     "output_type": "stream",
     "text": [
      "Number of vowels:  11\n"
     ]
    }
   ],
   "source": [
    "#Question 5\n",
    "\n",
    "string = \"I want to become a data scientist\"\n",
    "count = 0\n",
    "for i in string:\n",
    "    if i in ['a', 'e', 'i', 'o', 'u']:\n",
    "        count += 1\n",
    "print(\"Number of vowels: \", count)"
   ]
  },
  {
   "cell_type": "code",
   "execution_count": null,
   "id": "1e79ed7d",
   "metadata": {},
   "outputs": [],
   "source": []
  }
 ],
 "metadata": {
  "kernelspec": {
   "display_name": "Python 3 (ipykernel)",
   "language": "python",
   "name": "python3"
  },
  "language_info": {
   "codemirror_mode": {
    "name": "ipython",
    "version": 3
   },
   "file_extension": ".py",
   "mimetype": "text/x-python",
   "name": "python",
   "nbconvert_exporter": "python",
   "pygments_lexer": "ipython3",
   "version": "3.10.4"
  }
 },
 "nbformat": 4,
 "nbformat_minor": 5
}
