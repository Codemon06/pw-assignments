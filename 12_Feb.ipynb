{
 "cells": [
  {
   "cell_type": "markdown",
   "id": "716cab39",
   "metadata": {},
   "source": [
    "# Question 1"
   ]
  },
  {
   "cell_type": "markdown",
   "id": "69b84ada",
   "metadata": {},
   "source": [
    "Exceptions are the runtime error which when occurs interrupts the flow of execution of program from the line where it raises exception error.\n",
    "Exceptions can be handled using try-except blocks. A try-except block is used to catch an exception that might be raised during the execution of a block of code. "
   ]
  },
  {
   "cell_type": "markdown",
   "id": "defae0cb",
   "metadata": {},
   "source": [
    "Both Exception and Syntax error are type of error which interrupts the execution of program, but there is difference between them.\n",
    "\n",
    "In Syntax error, the interpreter encounters an invalid code syntax. These errors prevent the program from executing at all, and they are typically caught during the initial parsing of the code. Example, writing 'fro' in place of 'for'.\n",
    "\n",
    "In Exception error, program encounters an error during its execution. When an Exception occurs, the normal flow of a program is interrupted, and Python raises an Exception object. This object contains information about the error, including the type of error and the line number where the error occurred. These errors can happen for a variety of reasons, including invalid input, missing files, or division by zero."
   ]
  },
  {
   "cell_type": "markdown",
   "id": "2660fbf8",
   "metadata": {},
   "source": [
    "# Question 2"
   ]
  },
  {
   "cell_type": "markdown",
   "id": "d2eff810",
   "metadata": {},
   "source": [
    "When an exception is not handled, the flow of execution of program is interrupted and program is terminated abruptly.\n",
    "\n",
    "Example:"
   ]
  },
  {
   "cell_type": "code",
   "execution_count": 1,
   "id": "652e46c4",
   "metadata": {},
   "outputs": [
    {
     "ename": "IndexError",
     "evalue": "list index out of range",
     "output_type": "error",
     "traceback": [
      "\u001b[1;31m---------------------------------------------------------------------------\u001b[0m",
      "\u001b[1;31mIndexError\u001b[0m                                Traceback (most recent call last)",
      "Input \u001b[1;32mIn [1]\u001b[0m, in \u001b[0;36m<cell line: 4>\u001b[1;34m()\u001b[0m\n\u001b[0;32m      1\u001b[0m \u001b[38;5;66;03m# without handling the exception\u001b[39;00m\n\u001b[0;32m      3\u001b[0m l \u001b[38;5;241m=\u001b[39m [\u001b[38;5;241m1\u001b[39m,\u001b[38;5;241m2\u001b[39m,\u001b[38;5;241m3\u001b[39m,\u001b[38;5;241m4\u001b[39m]\n\u001b[1;32m----> 4\u001b[0m \u001b[38;5;28mprint\u001b[39m(\u001b[38;5;124m\"\u001b[39m\u001b[38;5;124mElement at index 5 is: \u001b[39m\u001b[38;5;124m\"\u001b[39m, \u001b[43ml\u001b[49m\u001b[43m[\u001b[49m\u001b[38;5;241;43m5\u001b[39;49m\u001b[43m]\u001b[49m)\n\u001b[0;32m      5\u001b[0m \u001b[38;5;28mprint\u001b[39m(\u001b[38;5;124m\"\u001b[39m\u001b[38;5;124mProgram is completed.\u001b[39m\u001b[38;5;124m\"\u001b[39m)\n",
      "\u001b[1;31mIndexError\u001b[0m: list index out of range"
     ]
    }
   ],
   "source": [
    "# without handling the exception\n",
    "\n",
    "l = [1,2,3,4]\n",
    "print(\"Element at index 5 is: \", l[5])\n",
    "print(\"Program is completed.\")\n",
    "\n",
    "# In the above code exception is raised in line number 2 because there is no element at index 5. So the program will raise\n",
    "# error and terminated without executing the next line."
   ]
  },
  {
   "cell_type": "code",
   "execution_count": null,
   "id": "1dff7df7",
   "metadata": {},
   "outputs": [],
   "source": [
    "# with handling the exception\n",
    "\n",
    "l = [1,2,3,4]\n",
    "\n",
    "try :\n",
    "    print(\"Element at index 5 is: \", l[5])\n",
    "except Exception as e:\n",
    "    print(e)\n",
    "    \n",
    "print(\"Program is completed.\")\n",
    "\n",
    "#As you can see, even after exception is raised the is not terminated and executed the last line."
   ]
  },
  {
   "cell_type": "markdown",
   "id": "24f0aa8f",
   "metadata": {},
   "source": [
    "# Question 3"
   ]
  },
  {
   "cell_type": "markdown",
   "id": "f1cb3422",
   "metadata": {},
   "source": [
    "In Python, the 'try' and 'except' statements are used to catch and handle exceptions.\n",
    "\n",
    "The 'try' block contains the code that may raise an exception. If an exception occurs, it is caught by the 'except' block, which contains code to handle the exception.\n",
    "\n",
    "Example:"
   ]
  },
  {
   "cell_type": "code",
   "execution_count": 2,
   "id": "ae25f2e2",
   "metadata": {},
   "outputs": [
    {
     "name": "stdout",
     "output_type": "stream",
     "text": [
      "division by zero\n"
     ]
    }
   ],
   "source": [
    "try:\n",
    "    result = 10 / 0\n",
    "except Exception as e:\n",
    "    print(e)"
   ]
  },
  {
   "cell_type": "markdown",
   "id": "f9e75a2e",
   "metadata": {},
   "source": [
    "# Question 4"
   ]
  },
  {
   "cell_type": "code",
   "execution_count": 3,
   "id": "71fd1f7f",
   "metadata": {},
   "outputs": [
    {
     "name": "stdout",
     "output_type": "stream",
     "text": [
      "Element at index 3 is:  4\n",
      "Program Executed Successfully.\n"
     ]
    }
   ],
   "source": [
    "# try and else\n",
    "\n",
    "l = [1,2,3,4]\n",
    "\n",
    "try :\n",
    "    print(\"Element at index 3 is: \", l[3])\n",
    "except Exception as e:\n",
    "    print(e)\n",
    "else:\n",
    "    print(\"Program Executed Successfully.\")\n",
    "    \n",
    "# the 'else' block is executed only when the 'try' block is executed successfully."
   ]
  },
  {
   "cell_type": "code",
   "execution_count": 4,
   "id": "cacf8ce2",
   "metadata": {},
   "outputs": [
    {
     "name": "stdout",
     "output_type": "stream",
     "text": [
      "list index out of range\n",
      "I will execute at any cost and condition\n"
     ]
    }
   ],
   "source": [
    "# finally\n",
    "\n",
    "l = [1,2,3,4]\n",
    "\n",
    "try :\n",
    "    print(\"Element at index 5 is: \", l[5])\n",
    "except Exception as e:\n",
    "    print(e)\n",
    "finally:\n",
    "    print(\"I will execute at any cost and condition\")\n",
    "    \n",
    "# the 'finally' block is executed at any condition ie either exception is raised or not."
   ]
  },
  {
   "cell_type": "code",
   "execution_count": 5,
   "id": "a82501bc",
   "metadata": {},
   "outputs": [
    {
     "ename": "ValueError",
     "evalue": "Age cannot be negative",
     "output_type": "error",
     "traceback": [
      "\u001b[1;31m---------------------------------------------------------------------------\u001b[0m",
      "\u001b[1;31mValueError\u001b[0m                                Traceback (most recent call last)",
      "Input \u001b[1;32mIn [5]\u001b[0m, in \u001b[0;36m<cell line: 4>\u001b[1;34m()\u001b[0m\n\u001b[0;32m      3\u001b[0m age \u001b[38;5;241m=\u001b[39m \u001b[38;5;241m-\u001b[39m\u001b[38;5;241m5\u001b[39m\n\u001b[0;32m      4\u001b[0m \u001b[38;5;28;01mif\u001b[39;00m age \u001b[38;5;241m<\u001b[39m \u001b[38;5;241m0\u001b[39m:\n\u001b[1;32m----> 5\u001b[0m     \u001b[38;5;28;01mraise\u001b[39;00m \u001b[38;5;167;01mValueError\u001b[39;00m(\u001b[38;5;124m\"\u001b[39m\u001b[38;5;124mAge cannot be negative\u001b[39m\u001b[38;5;124m\"\u001b[39m)\n\u001b[0;32m      6\u001b[0m \u001b[38;5;28;01melse\u001b[39;00m :\n\u001b[0;32m      7\u001b[0m     \u001b[38;5;28mprint\u001b[39m(\u001b[38;5;124m\"\u001b[39m\u001b[38;5;124mValid\u001b[39m\u001b[38;5;124m\"\u001b[39m)\n",
      "\u001b[1;31mValueError\u001b[0m: Age cannot be negative"
     ]
    }
   ],
   "source": [
    "# raise\n",
    "\n",
    "age = -5\n",
    "if age < 0:\n",
    "    raise ValueError(\"Age cannot be negative\")\n",
    "else :\n",
    "    print(\"Valid\")"
   ]
  },
  {
   "cell_type": "markdown",
   "id": "c6934c90",
   "metadata": {},
   "source": [
    "# Question 5"
   ]
  },
  {
   "cell_type": "markdown",
   "id": "0f6508fd",
   "metadata": {},
   "source": [
    "Custom Exceptions are user defined exceptions which can be created using class that inherits the built-in 'Exception' class. This allows you to define your own exception types with custom error messages.\n",
    "\n",
    "We need custom exceptions because it can help in improving the quality and maintainability of your code by providing clear error messages, specific error handling, separation of concerns, and consistent error handling.\n",
    "\n",
    "Example:"
   ]
  },
  {
   "cell_type": "code",
   "execution_count": 8,
   "id": "9c5b6210",
   "metadata": {},
   "outputs": [],
   "source": [
    "class CustExcep(Exception):    \n",
    "    def __init__(self , msg) : \n",
    "        self.msg = msg"
   ]
  },
  {
   "cell_type": "code",
   "execution_count": 12,
   "id": "e06fb834",
   "metadata": {},
   "outputs": [],
   "source": [
    "def validaetage(age) : \n",
    "    if age < 0 :\n",
    "        raise CustExcep(\"Entered age is Negative\" )\n",
    "    elif age > 120 : \n",
    "        raise CustExcep(\"Entered age is Invalid\" )\n",
    "    else :\n",
    "        print(\"Your age is Valid!\" )"
   ]
  },
  {
   "cell_type": "code",
   "execution_count": 17,
   "id": "66834d4b",
   "metadata": {},
   "outputs": [
    {
     "name": "stdout",
     "output_type": "stream",
     "text": [
      "Enter your age: -10\n",
      "Entered age is Negative\n",
      "Program Executed successfully!!\n"
     ]
    }
   ],
   "source": [
    "try :\n",
    "    age = int(input(\"Enter your age: \"))\n",
    "    validaetage(age)\n",
    "except CustExcep as e :\n",
    "    print(e)\n",
    "finally:\n",
    "    print(\"Program Executed successfully!!\")"
   ]
  },
  {
   "cell_type": "markdown",
   "id": "3038bfe4",
   "metadata": {},
   "source": [
    "# Question 6"
   ]
  },
  {
   "cell_type": "code",
   "execution_count": 23,
   "id": "aaa459c7",
   "metadata": {},
   "outputs": [],
   "source": [
    "class CustomException(Exception):\n",
    "    def __inti__(self, msg):\n",
    "        self.msg = msg"
   ]
  },
  {
   "cell_type": "code",
   "execution_count": 24,
   "id": "d00c2cbe",
   "metadata": {},
   "outputs": [],
   "source": [
    "def checkint(a):\n",
    "    if a%2!=0:\n",
    "        raise CustomException(\"Error : You entered the odd number!\")\n",
    "    else:\n",
    "        print(\"Thank you!\")"
   ]
  },
  {
   "cell_type": "code",
   "execution_count": 26,
   "id": "df9d7d4a",
   "metadata": {},
   "outputs": [
    {
     "name": "stdout",
     "output_type": "stream",
     "text": [
      "Enter even integer value: 2\n",
      "Thank you!\n",
      "\n",
      "No error encountered!\n",
      "\n",
      "Program executed successfuly!\n"
     ]
    }
   ],
   "source": [
    "try:\n",
    "    a = int(input(\"Enter even integer value: \"))\n",
    "    checkint(a)\n",
    "except CustomException as c :\n",
    "    print(c)\n",
    "else:\n",
    "    print(\"\\nNo error encountered!\\n\")\n",
    "finally:\n",
    "    print(\"Program executed successfuly!\")"
   ]
  },
  {
   "cell_type": "code",
   "execution_count": null,
   "id": "cf8547c5",
   "metadata": {},
   "outputs": [],
   "source": []
  }
 ],
 "metadata": {
  "kernelspec": {
   "display_name": "Python 3 (ipykernel)",
   "language": "python",
   "name": "python3"
  },
  "language_info": {
   "codemirror_mode": {
    "name": "ipython",
    "version": 3
   },
   "file_extension": ".py",
   "mimetype": "text/x-python",
   "name": "python",
   "nbconvert_exporter": "python",
   "pygments_lexer": "ipython3",
   "version": "3.10.4"
  }
 },
 "nbformat": 4,
 "nbformat_minor": 5
}
