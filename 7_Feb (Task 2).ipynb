{
 "cells": [
  {
   "cell_type": "markdown",
   "id": "10c3414d",
   "metadata": {},
   "source": [
    "# Question 1"
   ]
  },
  {
   "cell_type": "code",
   "execution_count": 1,
   "id": "a8dd20c0",
   "metadata": {},
   "outputs": [],
   "source": [
    "def pass_check(password):\n",
    "    u ,l ,n ,c = 0, 0, 0, 0\n",
    "    for i in password:\n",
    "        if(i.isupper() == True):\n",
    "            u += 1\n",
    "        elif(i.islower() == True):\n",
    "            l += 1\n",
    "        elif(i.isnumeric() == True):\n",
    "            n += 1\n",
    "        elif(i.isalnum != True):\n",
    "            c += 1\n",
    "    if(len(password)>=10 and u>=2 and l>=2 and n>=1 and c>=3):\n",
    "        print(\"Valid Password!\")\n",
    "    else:\n",
    "        print(\"Invalid Password!\")    "
   ]
  },
  {
   "cell_type": "code",
   "execution_count": 2,
   "id": "c253846d",
   "metadata": {},
   "outputs": [
    {
     "name": "stdout",
     "output_type": "stream",
     "text": [
      "Enter the password: AiMl@2024$%\n",
      "Valid Password!\n"
     ]
    }
   ],
   "source": [
    "password = str(input(\"Enter the password: \"))\n",
    "pass_check(password)"
   ]
  },
  {
   "cell_type": "markdown",
   "id": "17c42faa",
   "metadata": {},
   "source": [
    "# Question 2"
   ]
  },
  {
   "cell_type": "code",
   "execution_count": 3,
   "id": "487d9795",
   "metadata": {},
   "outputs": [
    {
     "name": "stdout",
     "output_type": "stream",
     "text": [
      "Enter the string: Mudit\n",
      "Enter the letter: M\n",
      "True\n"
     ]
    }
   ],
   "source": [
    "#Check if the string starts with a particular letter\n",
    "\n",
    "str1 = str(input(\"Enter the string: \"))\n",
    "start = str(input(\"Enter the letter: \"))\n",
    "check1 = lambda str1, start: str1.startswith(start)\n",
    "res1 = check1(str1, start)\n",
    "print(res1)"
   ]
  },
  {
   "cell_type": "code",
   "execution_count": 4,
   "id": "1b1db651",
   "metadata": {},
   "outputs": [
    {
     "name": "stdout",
     "output_type": "stream",
     "text": [
      "Enter the string: 123456\n",
      "True\n"
     ]
    }
   ],
   "source": [
    "#Check if the string is numeric\n",
    "\n",
    "str2 = str(input(\"Enter the string: \"))\n",
    "check2 = lambda str2: str2.isdigit()\n",
    "res2 = check2(str2)\n",
    "print(res2)"
   ]
  },
  {
   "cell_type": "code",
   "execution_count": 5,
   "id": "c963946f",
   "metadata": {},
   "outputs": [
    {
     "name": "stdout",
     "output_type": "stream",
     "text": [
      "[('orange', 80), ('mango', 99), ('grapes', 1000)]\n"
     ]
    }
   ],
   "source": [
    "#Sort a list of tuples having fruit names and their quantity.\n",
    "\n",
    "list1 = [(\"mango\",99),(\"orange\",80), (\"grapes\", 1000)]\n",
    "list1.sort(key=lambda x: x[1])\n",
    "print(list1)"
   ]
  },
  {
   "cell_type": "code",
   "execution_count": 6,
   "id": "80b16cb3",
   "metadata": {},
   "outputs": [
    {
     "name": "stdout",
     "output_type": "stream",
     "text": [
      "[1, 4, 9, 16, 25, 36, 49, 64, 81, 100]\n"
     ]
    }
   ],
   "source": [
    "#Find the squares of numbers from 1 to 10\n",
    "\n",
    "list2 = [1,2,3,4,5,6,7,8,9,10]\n",
    "sq_list = list(map(lambda x: x**2, list2))\n",
    "print(sq_list)\n"
   ]
  },
  {
   "cell_type": "code",
   "execution_count": 7,
   "id": "e8fa9d01",
   "metadata": {},
   "outputs": [
    {
     "name": "stdout",
     "output_type": "stream",
     "text": [
      "[1.0, 1.2599210498948732, 1.4422495703074083, 1.5874010519681994, 1.7099759466766968, 1.8171205928321397, 1.912931182772389, 2.0, 2.080083823051904, 2.154434690031884]\n"
     ]
    }
   ],
   "source": [
    "#Find the cube root of numbers from 1 to 10\n",
    "\n",
    "list3 = [1,2,3,4,5,6,7,8,9,10]\n",
    "curt_list = list(map(lambda x: x**(1/3), list3))\n",
    "print(curt_list)"
   ]
  },
  {
   "cell_type": "code",
   "execution_count": 8,
   "id": "430fabb5",
   "metadata": {},
   "outputs": [
    {
     "name": "stdout",
     "output_type": "stream",
     "text": [
      "Enter the number: 154947894\n",
      "Even\n"
     ]
    }
   ],
   "source": [
    "#Check if a given number is even\n",
    "\n",
    "n = int(input(\"Enter the number: \"))\n",
    "even = lambda x: x%2==0\n",
    "result = even(n)\n",
    "if(result == True):\n",
    "    print(\"Even\")\n",
    "else:\n",
    "    print(\"Odd\")"
   ]
  },
  {
   "cell_type": "code",
   "execution_count": 9,
   "id": "72816d20",
   "metadata": {},
   "outputs": [
    {
     "name": "stdout",
     "output_type": "stream",
     "text": [
      "Odd list is :  [1, 3, 5, 7, 9]\n"
     ]
    }
   ],
   "source": [
    "#Filter odd numbers from the given list.\n",
    "\n",
    "list4 = [1,2,3,4,5,6,7,8,9,10]\n",
    "odd_list = list(filter(lambda x: x%2==1, list4))\n",
    "print(\"Odd list is : \", odd_list)"
   ]
  },
  {
   "cell_type": "code",
   "execution_count": 10,
   "id": "aada19d0",
   "metadata": {},
   "outputs": [
    {
     "name": "stdout",
     "output_type": "stream",
     "text": [
      "Negative list is:  [-1, -2, -3, -4, -5]\n",
      "Positive list is:  [1, 2, 3, 4, 5, 6, 0]\n"
     ]
    }
   ],
   "source": [
    "#Sort a list of integers into positive and negative integers lists.\n",
    "\n",
    "list5 = [1,2,3,4,5,6,-1,-2,-3,-4,-5,0]\n",
    "neg_ls = [x for x in list5 if x<0]\n",
    "pos_ls = [x for x in list5 if x>=0]\n",
    "\n",
    "print(\"Negative list is: \", neg_ls)\n",
    "print(\"Positive list is: \", pos_ls)"
   ]
  },
  {
   "cell_type": "code",
   "execution_count": null,
   "id": "dc3e5627",
   "metadata": {},
   "outputs": [],
   "source": []
  }
 ],
 "metadata": {
  "kernelspec": {
   "display_name": "Python 3 (ipykernel)",
   "language": "python",
   "name": "python3"
  },
  "language_info": {
   "codemirror_mode": {
    "name": "ipython",
    "version": 3
   },
   "file_extension": ".py",
   "mimetype": "text/x-python",
   "name": "python",
   "nbconvert_exporter": "python",
   "pygments_lexer": "ipython3",
   "version": "3.10.4"
  }
 },
 "nbformat": 4,
 "nbformat_minor": 5
}
