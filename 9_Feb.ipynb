{
 "cells": [
  {
   "cell_type": "markdown",
   "id": "7096dd1c",
   "metadata": {},
   "source": [
    "# Question 1"
   ]
  },
  {
   "cell_type": "code",
   "execution_count": 1,
   "id": "ca87e3e6",
   "metadata": {},
   "outputs": [],
   "source": [
    "class vehicle:\n",
    "    def __init__(self, name_of_vehicle, max_speed, average_of_vehicle):\n",
    "        self.name_of_vehicle = name_of_vehicle\n",
    "        self.max_speed = max_speed\n",
    "        self.average_of_vehicle = average_of_vehicle\n",
    "    \n",
    "    def get_values(self):\n",
    "        print(\"Name: \", self.name_of_vehicle)\n",
    "        print(\"Max Speed: \", self.max_speed)\n",
    "        print(\"Avg. of Vehicle: \", self.average_of_vehicle)"
   ]
  },
  {
   "cell_type": "code",
   "execution_count": 2,
   "id": "1c67a784",
   "metadata": {},
   "outputs": [],
   "source": [
    "car = vehicle(\"Mazda Furai\", 300, 220)"
   ]
  },
  {
   "cell_type": "code",
   "execution_count": 3,
   "id": "ef931a4a",
   "metadata": {},
   "outputs": [
    {
     "name": "stdout",
     "output_type": "stream",
     "text": [
      "Name:  Mazda Furai\n",
      "Max Speed:  300\n",
      "Avg. of Vehicle:  220\n"
     ]
    }
   ],
   "source": [
    "car.get_values()"
   ]
  },
  {
   "cell_type": "markdown",
   "id": "e22e0bff",
   "metadata": {},
   "source": [
    "# Question 2"
   ]
  },
  {
   "cell_type": "code",
   "execution_count": 4,
   "id": "218d9850",
   "metadata": {},
   "outputs": [],
   "source": [
    "class seats(vehicle):\n",
    "    def seat_cap(self, capacity):\n",
    "        self.capacity = capacity\n",
    "    \n",
    "    def cap_values(self):\n",
    "        return self.name_of_vehicle, self.capacity"
   ]
  },
  {
   "cell_type": "code",
   "execution_count": 5,
   "id": "30d09604",
   "metadata": {},
   "outputs": [],
   "source": [
    "car1 = seats(\"Honda\", 160, 80) "
   ]
  },
  {
   "cell_type": "code",
   "execution_count": 6,
   "id": "8489beb7",
   "metadata": {},
   "outputs": [],
   "source": [
    "car1.seat_cap(6)"
   ]
  },
  {
   "cell_type": "code",
   "execution_count": 7,
   "id": "83e68f05",
   "metadata": {},
   "outputs": [
    {
     "data": {
      "text/plain": [
       "('Honda', 6)"
      ]
     },
     "execution_count": 7,
     "metadata": {},
     "output_type": "execute_result"
    }
   ],
   "source": [
    "car1.cap_values()"
   ]
  },
  {
   "cell_type": "markdown",
   "id": "5f92925b",
   "metadata": {},
   "source": [
    "# Question 3"
   ]
  },
  {
   "cell_type": "markdown",
   "id": "bd91343a",
   "metadata": {},
   "source": [
    "Multiple Inheritance is a type of inheritance in which a child class inherits the property of two or more parent classes.\n",
    "\n",
    "Example:"
   ]
  },
  {
   "cell_type": "code",
   "execution_count": 8,
   "id": "65e8c0d8",
   "metadata": {},
   "outputs": [],
   "source": [
    "class parent1:\n",
    "    def fun1(self):\n",
    "        return \"Hello wwwooooorrrrrrrllllllllssssssssss\"\n",
    "    \n",
    "class parent2:\n",
    "    def fun2(self):\n",
    "        return \"This is MG\""
   ]
  },
  {
   "cell_type": "code",
   "execution_count": 9,
   "id": "6fd9580b",
   "metadata": {},
   "outputs": [],
   "source": [
    "class child(parent1, parent2):\n",
    "    pass"
   ]
  },
  {
   "cell_type": "code",
   "execution_count": 10,
   "id": "457de0fd",
   "metadata": {},
   "outputs": [],
   "source": [
    "obj = child()"
   ]
  },
  {
   "cell_type": "code",
   "execution_count": 11,
   "id": "7861dc84",
   "metadata": {},
   "outputs": [
    {
     "data": {
      "text/plain": [
       "'Hello wwwooooorrrrrrrllllllllssssssssss'"
      ]
     },
     "execution_count": 11,
     "metadata": {},
     "output_type": "execute_result"
    }
   ],
   "source": [
    "obj.fun1() #calling the function of 'parent1' class"
   ]
  },
  {
   "cell_type": "code",
   "execution_count": 12,
   "id": "12202288",
   "metadata": {},
   "outputs": [
    {
     "data": {
      "text/plain": [
       "'This is MG'"
      ]
     },
     "execution_count": 12,
     "metadata": {},
     "output_type": "execute_result"
    }
   ],
   "source": [
    "obj.fun2() #calling the function of 'parent2' class"
   ]
  },
  {
   "cell_type": "markdown",
   "id": "b8c9f743",
   "metadata": {},
   "source": [
    "# Question 4"
   ]
  },
  {
   "cell_type": "markdown",
   "id": "0af91795",
   "metadata": {},
   "source": [
    "In Python, getter and setter are methods that are used to access and modify the value of an instance variable or attribute of an object.\n",
    "\n",
    "'getter' is usde return the value when it is invoked while"
   ]
  },
  {
   "cell_type": "code",
   "execution_count": 13,
   "id": "5fb88050",
   "metadata": {},
   "outputs": [],
   "source": [
    "class books:\n",
    "    def get_name(self): #getter\n",
    "        return self.book_name \n",
    "    def set_name(self, name): #setter\n",
    "        self.book_name = name"
   ]
  },
  {
   "cell_type": "code",
   "execution_count": 14,
   "id": "3f5ed1cd",
   "metadata": {},
   "outputs": [],
   "source": [
    "book1 = books()"
   ]
  },
  {
   "cell_type": "code",
   "execution_count": 15,
   "id": "d7404f31",
   "metadata": {},
   "outputs": [],
   "source": [
    "book1.set_name(\"Hogwarts Legacy\")"
   ]
  },
  {
   "cell_type": "code",
   "execution_count": 16,
   "id": "dfa713b8",
   "metadata": {},
   "outputs": [
    {
     "data": {
      "text/plain": [
       "'Hogwarts Legacy'"
      ]
     },
     "execution_count": 16,
     "metadata": {},
     "output_type": "execute_result"
    }
   ],
   "source": [
    "book1.get_name()"
   ]
  },
  {
   "cell_type": "markdown",
   "id": "3d4ab935",
   "metadata": {},
   "source": [
    "# Question 5"
   ]
  },
  {
   "cell_type": "code",
   "execution_count": 17,
   "id": "c0873383",
   "metadata": {},
   "outputs": [],
   "source": [
    "class hinokamo:\n",
    "    def move(self):\n",
    "        return \"Sun Breathing\"\n",
    "    def defence(self):\n",
    "        return \"Moon Breathing\"\n",
    "\n",
    "class kagura(hinokamo):\n",
    "    def move(self):\n",
    "        return \"Water Breathing\""
   ]
  },
  {
   "cell_type": "code",
   "execution_count": 18,
   "id": "24ab687e",
   "metadata": {},
   "outputs": [],
   "source": [
    "tanjiro = kagura()"
   ]
  },
  {
   "cell_type": "code",
   "execution_count": 19,
   "id": "c146663f",
   "metadata": {},
   "outputs": [
    {
     "data": {
      "text/plain": [
       "'Water Breathing'"
      ]
     },
     "execution_count": 19,
     "metadata": {},
     "output_type": "execute_result"
    }
   ],
   "source": [
    "tanjiro.move() #as we can see the child class has override the parent class function so the output will be of child class."
   ]
  },
  {
   "cell_type": "code",
   "execution_count": 20,
   "id": "301a7532",
   "metadata": {},
   "outputs": [
    {
     "data": {
      "text/plain": [
       "'Moon Breathing'"
      ]
     },
     "execution_count": 20,
     "metadata": {},
     "output_type": "execute_result"
    }
   ],
   "source": [
    "tanjiro.defence()"
   ]
  },
  {
   "cell_type": "code",
   "execution_count": null,
   "id": "005f9874",
   "metadata": {},
   "outputs": [],
   "source": []
  }
 ],
 "metadata": {
  "kernelspec": {
   "display_name": "Python 3 (ipykernel)",
   "language": "python",
   "name": "python3"
  },
  "language_info": {
   "codemirror_mode": {
    "name": "ipython",
    "version": 3
   },
   "file_extension": ".py",
   "mimetype": "text/x-python",
   "name": "python",
   "nbconvert_exporter": "python",
   "pygments_lexer": "ipython3",
   "version": "3.10.4"
  }
 },
 "nbformat": 4,
 "nbformat_minor": 5
}
