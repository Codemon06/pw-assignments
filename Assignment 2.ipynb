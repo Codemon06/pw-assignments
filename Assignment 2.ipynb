{
 "cells": [
  {
   "cell_type": "markdown",
   "id": "a80525a6-3ba6-44c2-a1ee-2e4724e619eb",
   "metadata": {},
   "source": [
    "Assignment 2"
   ]
  },
  {
   "cell_type": "code",
   "execution_count": 1,
   "id": "d1ab33ea-a39e-4413-b80c-0a1c788a71ae",
   "metadata": {},
   "outputs": [
    {
     "name": "stdin",
     "output_type": "stream",
     "text": [
      "Enter percentage:  95\n"
     ]
    },
    {
     "name": "stdout",
     "output_type": "stream",
     "text": [
      "Grade is : A\n"
     ]
    }
   ],
   "source": [
    "#Question 1\n",
    "\n",
    "per = int(input(\"Enter percentage: \"))\n",
    "print(\"Grade is : \", end='')\n",
    "if per>90:\n",
    "    print(\"A\")\n",
    "elif per>80 and per<=90:\n",
    "    print(\"B\")\n",
    "elif per>60 and per<=80:\n",
    "    print(\"C\")\n",
    "else:\n",
    "    print(\"D\")"
   ]
  },
  {
   "cell_type": "code",
   "execution_count": 3,
   "id": "abe6001c-d866-46f3-8b4e-8815d1e53b20",
   "metadata": {},
   "outputs": [
    {
     "name": "stdin",
     "output_type": "stream",
     "text": [
      "Enter cost:  150000\n"
     ]
    },
    {
     "name": "stdout",
     "output_type": "stream",
     "text": [
      "Tax is : 15%\n"
     ]
    }
   ],
   "source": [
    "#Question 2\n",
    "\n",
    "cost = int(input(\"Enter cost: \"))\n",
    "print(\"Tax is : \", end='')\n",
    "if cost>100000:\n",
    "    print(\"15%\")\n",
    "elif per>50000 and per<=100000:\n",
    "    print(\"10%\")\n",
    "else:\n",
    "    print(\"5%\")"
   ]
  },
  {
   "cell_type": "code",
   "execution_count": 4,
   "id": "5289aef5-af16-4a8c-8a0c-8dcfefff7c0d",
   "metadata": {},
   "outputs": [
    {
     "name": "stdin",
     "output_type": "stream",
     "text": [
      "Enter city name:  Delhi\n"
     ]
    },
    {
     "name": "stdout",
     "output_type": "stream",
     "text": [
      "Monument is : Red Fort\n"
     ]
    }
   ],
   "source": [
    "#Question 3\n",
    "\n",
    "city = str(input(\"Enter city name: \"))\n",
    "print(\"Monument is : \", end='')\n",
    "if(city == \"Delhi\"):\n",
    "    print(\"Red Fort\")\n",
    "elif(city == \"Agra\"):\n",
    "    print(\"Taj Mahal\")\n",
    "elif(city == \"Jaipur\"):\n",
    "    print(\"Jal Mahal\")\n",
    "else:\n",
    "    print(\"Not Found\")"
   ]
  },
  {
   "cell_type": "code",
   "execution_count": 17,
   "id": "f5ef8e59-19e6-42b3-a395-a02476a1bf4a",
   "metadata": {},
   "outputs": [
    {
     "name": "stdin",
     "output_type": "stream",
     "text": [
      "Enter the number:  333\n"
     ]
    },
    {
     "name": "stdout",
     "output_type": "stream",
     "text": [
      "Number of times is:  4\n"
     ]
    }
   ],
   "source": [
    "#Question 4\n",
    "\n",
    "n = int(input(\"Enter the number: \"))\n",
    "l = 0\n",
    "while (n>10):\n",
    "    n /= 3\n",
    "    l += 1\n",
    "print(\"Number of times is: \", l)"
   ]
  },
  {
   "cell_type": "code",
   "execution_count": null,
   "id": "047626ba-cb6c-4542-b2e4-03668cb4e731",
   "metadata": {},
   "outputs": [],
   "source": []
  },
  {
   "cell_type": "markdown",
   "id": "deb36fa1-0511-4789-b121-9ecfdd7b15cc",
   "metadata": {},
   "source": [
    "#Question 5\n",
    "\n",
    "While loop is used when the number of iterations is unknown. It is an entry control loop that first checks the condtion and then execute the code block. It runs till the condition is met.\n"
   ]
  },
  {
   "cell_type": "code",
   "execution_count": null,
   "id": "ff5f1cb0-d374-4a06-bde1-49d8322e73c8",
   "metadata": {},
   "outputs": [],
   "source": []
  },
  {
   "cell_type": "code",
   "execution_count": 24,
   "id": "ff9f62d2-eaf1-49aa-ad99-b5e2f438fe15",
   "metadata": {},
   "outputs": [
    {
     "name": "stdout",
     "output_type": "stream",
     "text": [
      "Pattern 1: \n",
      "# \n",
      "# # \n",
      "# # # \n",
      "# # # # \n",
      "# # # # # \n",
      "\n",
      "\n",
      "Pattern 2: \n",
      "# # # # # \n",
      "# # # # \n",
      "# # # \n",
      "# # \n",
      "# \n",
      "\n",
      "\n",
      "Patter 3: \n",
      "1 \n",
      "2 3 \n",
      "4 5 6 \n",
      "7 8 9 10 \n",
      "11 12 13 14 15 \n"
     ]
    }
   ],
   "source": [
    "#Question 6\n",
    "\n",
    "print(\"Pattern 1: \")\n",
    "i = 0\n",
    "while(i<5):\n",
    "    j = 0\n",
    "    while(j<=i):\n",
    "        print(\"#\", end=' ')\n",
    "        j += 1\n",
    "    print()\n",
    "    i += 1\n",
    "    \n",
    "print(\"\\n\\nPattern 2: \")\n",
    "i = 0\n",
    "while(i<=4):\n",
    "    j = 4\n",
    "    while(j>=i):\n",
    "        print(\"#\", end=' ')\n",
    "        j -= 1\n",
    "    print()\n",
    "    i += 1\n",
    "    \n",
    "\n",
    "print(\"\\n\\nPatter 3: \")\n",
    "i = 0\n",
    "k = 1\n",
    "while(i<5):\n",
    "    j = 0\n",
    "    while(j<=i):\n",
    "        print(k, end=' ')\n",
    "        j += 1\n",
    "        k += 1\n",
    "    print()\n",
    "    i += 1\n",
    "    "
   ]
  },
  {
   "cell_type": "code",
   "execution_count": 25,
   "id": "260496f0-0141-4f74-a22f-5fa492976c37",
   "metadata": {},
   "outputs": [
    {
     "name": "stdout",
     "output_type": "stream",
     "text": [
      "10 9 8 7 6 5 4 3 2 1 "
     ]
    }
   ],
   "source": [
    "#Question 7\n",
    "\n",
    "i=10\n",
    "while(i>0):\n",
    "    print(i, end = ' ')\n",
    "    i -= 1"
   ]
  },
  {
   "cell_type": "code",
   "execution_count": 26,
   "id": "f224d3e8-b370-4d0c-9165-075811b30247",
   "metadata": {},
   "outputs": [
    {
     "name": "stdout",
     "output_type": "stream",
     "text": [
      "10 9 8 7 6 5 4 3 2 1 "
     ]
    }
   ],
   "source": [
    "#Question 8\n",
    "\n",
    "i=10\n",
    "while(i>0):\n",
    "    print(i, end = ' ')\n",
    "    i -= 1"
   ]
  },
  {
   "cell_type": "code",
   "execution_count": null,
   "id": "8e08be03-0c27-43ed-ab1d-9d50a87ad1e4",
   "metadata": {},
   "outputs": [],
   "source": []
  }
 ],
 "metadata": {
  "kernelspec": {
   "display_name": "Python 3 (ipykernel)",
   "language": "python",
   "name": "python3"
  },
  "language_info": {
   "codemirror_mode": {
    "name": "ipython",
    "version": 3
   },
   "file_extension": ".py",
   "mimetype": "text/x-python",
   "name": "python",
   "nbconvert_exporter": "python",
   "pygments_lexer": "ipython3",
   "version": "3.10.8"
  }
 },
 "nbformat": 4,
 "nbformat_minor": 5
}
