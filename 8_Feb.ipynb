{
 "cells": [
  {
   "cell_type": "markdown",
   "id": "7d3da9bb",
   "metadata": {},
   "source": [
    "# Question 1"
   ]
  },
  {
   "cell_type": "markdown",
   "id": "5d91679c",
   "metadata": {},
   "source": [
    "Abstraction is one of the four pillar of OOPs, which refers to the process of hiding the implementation details of an object from the user and showing only the necessary information to the user.\n",
    "\n",
    "Example:"
   ]
  },
  {
   "cell_type": "code",
   "execution_count": 2,
   "id": "d024a351",
   "metadata": {},
   "outputs": [
    {
     "name": "stdout",
     "output_type": "stream",
     "text": [
      "Bark!\n",
      "Meow!\n",
      "\n",
      " In this example class Animal is an abstract class which provides abstract method 'make_sound()'.\n"
     ]
    }
   ],
   "source": [
    "from abc import ABC, abstractmethod\n",
    "\n",
    "class Animal(ABC):\n",
    "    @abstractmethod\n",
    "    def make_sound(self):\n",
    "        pass\n",
    "\n",
    "class Dog(Animal):\n",
    "    def make_sound(self):\n",
    "        print(\"Bark!\")\n",
    "\n",
    "class Cat(Animal):\n",
    "    def make_sound(self):\n",
    "        print(\"Meow!\")\n",
    "\n",
    "dog = Dog()\n",
    "dog.make_sound() \n",
    "\n",
    "cat = Cat()\n",
    "cat.make_sound()\n",
    "\n",
    "print(\"\\n In this example class Animal is an abstract class which provides abstract method 'make_sound()'.\")"
   ]
  },
  {
   "cell_type": "markdown",
   "id": "57bffdf2",
   "metadata": {},
   "source": [
    "# Question 2"
   ]
  },
  {
   "cell_type": "markdown",
   "id": "ce8d2a4b",
   "metadata": {},
   "source": [
    "Abstraction is a method of hiding the implementation details from outside world and showing only the necessary details to the user.\n",
    "While Encapsulation is a concept of binding the data into a block and providing access control over data for access and manipulation of data.\n",
    "\n",
    "Example:"
   ]
  },
  {
   "cell_type": "code",
   "execution_count": 30,
   "id": "f02ee5de",
   "metadata": {},
   "outputs": [
    {
     "name": "stdout",
     "output_type": "stream",
     "text": [
      "Starting car engine...\n",
      "Driving the car...\n"
     ]
    },
    {
     "ename": "AttributeError",
     "evalue": "'Car' object has no attribute '__engine_started'",
     "output_type": "error",
     "traceback": [
      "\u001b[1;31m---------------------------------------------------------------------------\u001b[0m",
      "\u001b[1;31mAttributeError\u001b[0m                            Traceback (most recent call last)",
      "Input \u001b[1;32mIn [30]\u001b[0m, in \u001b[0;36m<cell line: 25>\u001b[1;34m()\u001b[0m\n\u001b[0;32m     23\u001b[0m car\u001b[38;5;241m.\u001b[39mstart_engine()  \n\u001b[0;32m     24\u001b[0m car\u001b[38;5;241m.\u001b[39mdrive() \n\u001b[1;32m---> 25\u001b[0m \u001b[38;5;28mprint\u001b[39m(\u001b[43mcar\u001b[49m\u001b[38;5;241;43m.\u001b[39;49m\u001b[43m__engine_started\u001b[49m)\n",
      "\u001b[1;31mAttributeError\u001b[0m: 'Car' object has no attribute '__engine_started'"
     ]
    }
   ],
   "source": [
    "from abc import ABC, abstractmethod\n",
    "\n",
    "class Vehicle(ABC):\n",
    "    @abstractmethod\n",
    "    def start_engine(self):\n",
    "        pass\n",
    "\n",
    "class Car(Vehicle):\n",
    "    def __init__(self):\n",
    "        self.__engine_started = False\n",
    "\n",
    "    def start_engine(self):\n",
    "        print(\"Starting car engine...\")\n",
    "        self.__engine_started = True\n",
    "\n",
    "    def drive(self):\n",
    "        if self.__engine_started:\n",
    "            print(\"Driving the car...\")\n",
    "        else:\n",
    "            print(\"Cannot drive without starting the engine first.\")\n",
    "\n",
    "car = Car()\n",
    "car.start_engine()  \n",
    "car.drive() \n",
    "print(car.__engine_started) #An error will occur because the '__engine_started is private attribute.'\n"
   ]
  },
  {
   "cell_type": "markdown",
   "id": "1e80d7f3",
   "metadata": {},
   "source": [
    "# Question 3"
   ]
  },
  {
   "cell_type": "markdown",
   "id": "2f0ffad2",
   "metadata": {},
   "source": [
    "The 'abc' module in Python stands for \"Abstract Base Classes\". It provides a way to define abstract classes and methods in Python, which are classes and methods that do not have an implementation, but they are meant to be implemented by subclasses.\n",
    "\n",
    "The main use of the abstract base class is to provide a standardized way to test whether an object adheres to a given specification. It can also prevent any attempt to instantiate a subclass that doesn’t override a particular method in the superclass."
   ]
  },
  {
   "cell_type": "markdown",
   "id": "00c9a150",
   "metadata": {},
   "source": [
    "# Question 4"
   ]
  },
  {
   "cell_type": "markdown",
   "id": "4e881c76",
   "metadata": {},
   "source": [
    "Data Abstraction can be achieved in OOP by using abstract classes and interfaces, which provide a common interface for a group of related or unrelated classes, and allow us to hide the implementation details and expose only the necessary information to the user.\n",
    "\n",
    "In simple terms, abstraction can be achieved by having/using abstract classes and methods in our programs."
   ]
  },
  {
   "cell_type": "markdown",
   "id": "9857cbef",
   "metadata": {},
   "source": [
    "# Question 5"
   ]
  },
  {
   "cell_type": "markdown",
   "id": "f8e78d2d",
   "metadata": {},
   "source": [
    "No, we cannot create an instance of abstract class because when we try to create an instance of an abstract class, Python will raise a 'TypeError'.\n",
    "\n",
    "The reason why we cannot create an instance of an abstract class is that it's not meant to be used directly, but it's meant to be used as a base class for other classes. An abstract method is a method that does not have an implementation, and it's meant to be implemented by the subclass."
   ]
  },
  {
   "cell_type": "code",
   "execution_count": null,
   "id": "a5ff77da",
   "metadata": {},
   "outputs": [],
   "source": []
  }
 ],
 "metadata": {
  "kernelspec": {
   "display_name": "Python 3 (ipykernel)",
   "language": "python",
   "name": "python3"
  },
  "language_info": {
   "codemirror_mode": {
    "name": "ipython",
    "version": 3
   },
   "file_extension": ".py",
   "mimetype": "text/x-python",
   "name": "python",
   "nbconvert_exporter": "python",
   "pygments_lexer": "ipython3",
   "version": "3.10.4"
  }
 },
 "nbformat": 4,
 "nbformat_minor": 5
}
