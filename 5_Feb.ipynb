{
 "cells": [
  {
   "cell_type": "markdown",
   "id": "894788f7",
   "metadata": {},
   "source": [
    "# Question 1"
   ]
  },
  {
   "cell_type": "markdown",
   "id": "cbe752ce",
   "metadata": {},
   "source": [
    "A class is a blueprint or template that defines a set of attributes and methods, while an object is an instance of a class that has its own specific set of data and can perform its own set of actions.\n",
    "\n",
    "Example:"
   ]
  },
  {
   "cell_type": "code",
   "execution_count": 16,
   "id": "6c41e6fa",
   "metadata": {},
   "outputs": [],
   "source": [
    "class test:\n",
    "    \"\"\"This is a class\"\"\"\n",
    "    \n",
    "    def __init__(self, apple, banana):\n",
    "        self.__a = apple\n",
    "        self.__b = banana\n",
    "    \n",
    "    def values(self):\n",
    "        return self.__a, self.__b"
   ]
  },
  {
   "cell_type": "code",
   "execution_count": 17,
   "id": "60503071",
   "metadata": {},
   "outputs": [],
   "source": [
    "obj = test(\"Kiwi\", \"Orange\")"
   ]
  },
  {
   "cell_type": "code",
   "execution_count": 18,
   "id": "beff6679",
   "metadata": {},
   "outputs": [
    {
     "data": {
      "text/plain": [
       "('Kiwi', 'Orange')"
      ]
     },
     "execution_count": 18,
     "metadata": {},
     "output_type": "execute_result"
    }
   ],
   "source": [
    "obj.values()"
   ]
  },
  {
   "cell_type": "markdown",
   "id": "8c03c2cf",
   "metadata": {},
   "source": [
    "# Question 2"
   ]
  },
  {
   "cell_type": "markdown",
   "id": "e2541b70",
   "metadata": {},
   "source": [
    "Four pillars of OOPs are:\n",
    "    1. Abstraction\n",
    "    2. Encapsulation\n",
    "    3. Inheritance\n",
    "    4. Polymorphism"
   ]
  },
  {
   "cell_type": "markdown",
   "id": "baa0ba92",
   "metadata": {},
   "source": [
    "# Question 3"
   ]
  },
  {
   "cell_type": "markdown",
   "id": "ce3349fc",
   "metadata": {},
   "source": [
    "The __init__ function is a special type of function which invokes and assign the objects attributes every time a new object is created. It is only used within the classes.\n",
    "\n",
    "Example:"
   ]
  },
  {
   "cell_type": "code",
   "execution_count": 19,
   "id": "2a1a7a6d",
   "metadata": {},
   "outputs": [],
   "source": [
    "class fun1:\n",
    "    \"\"\"This is class used to define use of __init__ function.\"\"\"\n",
    "    \n",
    "    def __init__(self, a, b):\n",
    "        self.__a = a\n",
    "        self.__b = b\n",
    "        \n",
    "    def values(self):\n",
    "        return self.__a + self.__b"
   ]
  },
  {
   "cell_type": "code",
   "execution_count": 20,
   "id": "f2dc82c0",
   "metadata": {},
   "outputs": [],
   "source": [
    "obj1 = fun1(5,5645465)"
   ]
  },
  {
   "cell_type": "code",
   "execution_count": 22,
   "id": "7cb83566",
   "metadata": {},
   "outputs": [
    {
     "data": {
      "text/plain": [
       "5645470"
      ]
     },
     "execution_count": 22,
     "metadata": {},
     "output_type": "execute_result"
    }
   ],
   "source": [
    "obj1.values()"
   ]
  },
  {
   "cell_type": "markdown",
   "id": "517f239a",
   "metadata": {},
   "source": [
    "# Question 4"
   ]
  },
  {
   "cell_type": "markdown",
   "id": "52facec2",
   "metadata": {},
   "source": [
    "The self variable is used to represent the instance of the class which is often used in object-oriented programming. It works as a reference to the object. Python uses the self parameter to refer to instance attributes and methods of the class. \n",
    "It is not mandatory to always use 'self' keyword, instead we can use any other variable name."
   ]
  },
  {
   "cell_type": "markdown",
   "id": "a24c7234",
   "metadata": {},
   "source": [
    "# Question 5"
   ]
  },
  {
   "cell_type": "markdown",
   "id": "1f1db65d",
   "metadata": {},
   "source": [
    "Inheritance is one of the four pillars of OOPs, which states that the property of one class can be inherited in another class which increases the reusabiltiy of code.\n",
    "Inheritance allows us to define a class that inherits all the methods and properties from another class.\n",
    "Parent class is the class being inherited from, also called base class. Child class is the class that inherits from another class, also called derived class.\n",
    "\n",
    "There are three typed of inheritance in python:\n",
    "Single, Multilevel and Multiple.\n",
    "\n",
    "Example: "
   ]
  },
  {
   "cell_type": "code",
   "execution_count": 35,
   "id": "c45382ae",
   "metadata": {},
   "outputs": [],
   "source": [
    "class class1:\n",
    "    \"\"\"Parent Class\"\"\"\n",
    "    def meth1(self):\n",
    "        return \"meth1 of class 1\"\n",
    "    \n",
    "    def __meth2(self):\n",
    "        return \"meth 2 of class 1\""
   ]
  },
  {
   "cell_type": "code",
   "execution_count": 36,
   "id": "a7eccd4a",
   "metadata": {},
   "outputs": [],
   "source": [
    "class class2:\n",
    "    \"\"\"Parent Class\"\"\"\n",
    "    def meth3(self):\n",
    "        return \"meth3 of class 2\"\n",
    "    \n",
    "    def __meth4(self):\n",
    "        return \"meth 4 of class 2\""
   ]
  },
  {
   "cell_type": "code",
   "execution_count": 37,
   "id": "a0f21472",
   "metadata": {},
   "outputs": [],
   "source": [
    "class class3(class1, class2):\n",
    "    \"\"\"Multiple Inheritance\"\"\"\n",
    "    def meth5(self):\n",
    "        return \"i am meth5 of multiple inheritence\""
   ]
  },
  {
   "cell_type": "code",
   "execution_count": 27,
   "id": "6f9174ed",
   "metadata": {},
   "outputs": [],
   "source": [
    "class class4(class1):\n",
    "    pass"
   ]
  },
  {
   "cell_type": "code",
   "execution_count": 38,
   "id": "d1877435",
   "metadata": {},
   "outputs": [],
   "source": [
    "class class5(class4):\n",
    "    \"\"\"Multilevel Inheritance\"\"\"\n",
    "    pass"
   ]
  },
  {
   "cell_type": "code",
   "execution_count": 29,
   "id": "ac3d473c",
   "metadata": {},
   "outputs": [],
   "source": [
    "class3_obj = class3()\n",
    "class5_obj = class5()"
   ]
  },
  {
   "cell_type": "code",
   "execution_count": 30,
   "id": "bfb109c5",
   "metadata": {},
   "outputs": [
    {
     "data": {
      "text/plain": [
       "'meth1 of class 1'"
      ]
     },
     "execution_count": 30,
     "metadata": {},
     "output_type": "execute_result"
    }
   ],
   "source": [
    "class3_obj.meth1()"
   ]
  },
  {
   "cell_type": "code",
   "execution_count": 31,
   "id": "6a44b7bd",
   "metadata": {},
   "outputs": [
    {
     "data": {
      "text/plain": [
       "'meth3 of class 2'"
      ]
     },
     "execution_count": 31,
     "metadata": {},
     "output_type": "execute_result"
    }
   ],
   "source": [
    "class3_obj.meth3()"
   ]
  },
  {
   "cell_type": "code",
   "execution_count": 32,
   "id": "3707e4ab",
   "metadata": {},
   "outputs": [
    {
     "data": {
      "text/plain": [
       "'i am meth5 of multiple inheritence'"
      ]
     },
     "execution_count": 32,
     "metadata": {},
     "output_type": "execute_result"
    }
   ],
   "source": [
    "class3_obj.meth5()"
   ]
  },
  {
   "cell_type": "code",
   "execution_count": 33,
   "id": "14845c5c",
   "metadata": {},
   "outputs": [
    {
     "data": {
      "text/plain": [
       "'meth1 of class 1'"
      ]
     },
     "execution_count": 33,
     "metadata": {},
     "output_type": "execute_result"
    }
   ],
   "source": [
    "class5_obj.meth1()"
   ]
  }
 ],
 "metadata": {
  "kernelspec": {
   "display_name": "Python 3 (ipykernel)",
   "language": "python",
   "name": "python3"
  },
  "language_info": {
   "codemirror_mode": {
    "name": "ipython",
    "version": 3
   },
   "file_extension": ".py",
   "mimetype": "text/x-python",
   "name": "python",
   "nbconvert_exporter": "python",
   "pygments_lexer": "ipython3",
   "version": "3.10.4"
  }
 },
 "nbformat": 4,
 "nbformat_minor": 5
}
