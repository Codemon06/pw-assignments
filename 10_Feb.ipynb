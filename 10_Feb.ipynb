{
 "cells": [
  {
   "cell_type": "markdown",
   "id": "a5e4f2cd",
   "metadata": {},
   "source": [
    "# Question 1"
   ]
  },
  {
   "cell_type": "markdown",
   "id": "c22177df",
   "metadata": {},
   "source": [
    "'open()' function is used to open a file in python."
   ]
  },
  {
   "cell_type": "markdown",
   "id": "3643bf5e",
   "metadata": {},
   "source": [
    "Different modes of opening a file are:\n",
    "\n",
    "->  'r'       : Opens the file in reading mode. It is the default mode.\n",
    "            \n",
    "->  'w'       : Opens the file in writing mode, deleting all the content of the file first.\n",
    "\n",
    "->  'x'       : Creates a new file and open it for writing.\n",
    "\n",
    "->  'a'       : Opens the file for writing, appending to the end of the file if it exists. This mode will not delete the                         previous content\n",
    "             \n",
    "->  'b'       : Opens the file in binary mode.\n",
    "\n",
    "->  't'       : Opens the file in text mode. It is also the default mode of opening of file.\n",
    "\n",
    "->  '+'       : Opens a disk file for updating (reading and writing)."
   ]
  },
  {
   "cell_type": "markdown",
   "id": "360dc534",
   "metadata": {},
   "source": [
    "# Question 2"
   ]
  },
  {
   "cell_type": "markdown",
   "id": "147071d6",
   "metadata": {},
   "source": [
    "The 'close()' function is used to close an open file in python because it is important to close he every open file as it will consume system resources and also the chances of resource leak increases.\n",
    "\n",
    "Failing to close a file can also cause issues with other programs or processes that may need to access the same file. For example, if you're working with a database file, leaving it open can prevent other processes from updating or reading the data in the file."
   ]
  },
  {
   "cell_type": "markdown",
   "id": "6e9b8a98",
   "metadata": {},
   "source": [
    "# Question 3"
   ]
  },
  {
   "cell_type": "code",
   "execution_count": 2,
   "id": "65dbcbf9",
   "metadata": {},
   "outputs": [
    {
     "name": "stdout",
     "output_type": "stream",
     "text": [
      "I want to become a Data Scientist\n"
     ]
    }
   ],
   "source": [
    "# python program to create a text file\n",
    "\n",
    "obj = open(\"file.txt\", \"w\")\n",
    "\n",
    "obj.write(\"I want to become a Data Scientist\")\n",
    "\n",
    "obj.close()\n",
    "\n",
    "obj = open(\"file.txt\", \"r\")\n",
    "\n",
    "content = obj.read()\n",
    "\n",
    "print(content)\n",
    "\n",
    "obj.close()"
   ]
  },
  {
   "cell_type": "markdown",
   "id": "f9ef95e8",
   "metadata": {},
   "source": [
    "# Question 4"
   ]
  },
  {
   "cell_type": "code",
   "execution_count": 4,
   "id": "449a9e1a",
   "metadata": {},
   "outputs": [],
   "source": [
    "#creating a multline file\n",
    "obj = open(\"data_file.txt\", \"w\")\n",
    "\n",
    "obj.write(\"\"\"Lorem ipsum dolor sit amet, consectetur adipiscing elit, \n",
    "sed do eiusmod tempor incididunt ut labore et dolore magna aliqua. \n",
    "Ut enim ad minim veniam, quis nostrud exercitation ullamco laboris nisi ut aliquip ex ea commodo consequat. \n",
    "Duis aute irure dolor in reprehenderit in voluptate velit esse cillum dolore eu fugiat nulla pariatur. \n",
    "Excepteur sint occaecat cupidatat non proident, sunt in culpa qui officia deserunt mollit anim id est laborum.\"\"\")\n",
    "\n",
    "obj.close()"
   ]
  },
  {
   "cell_type": "code",
   "execution_count": 5,
   "id": "559e38c6",
   "metadata": {},
   "outputs": [
    {
     "name": "stdout",
     "output_type": "stream",
     "text": [
      "Lorem ipsum dolor sit amet, consectetur adipiscing elit, \n",
      "sed do eiusmod tempor incididunt ut labore et dolore magna aliqua. \n",
      "Ut enim ad minim veniam, quis nostrud exercitation ullamco laboris nisi ut aliquip ex ea commodo consequat. \n",
      "Duis aute irure dolor in reprehenderit in voluptate velit esse cillum dolore eu fugiat nulla pariatur. \n",
      "Excepteur sint occaecat cupidatat non proident, sunt in culpa qui officia deserunt mollit anim id est laborum.\n"
     ]
    }
   ],
   "source": [
    "# read() mode\n",
    "# this method reads the whole file and returns as it is.\n",
    "\n",
    "obj1 = open(\"data_file.txt\", \"r\")\n",
    "\n",
    "read_con = obj1.read()\n",
    "\n",
    "print(read_con)"
   ]
  },
  {
   "cell_type": "code",
   "execution_count": 10,
   "id": "81059b40",
   "metadata": {},
   "outputs": [
    {
     "name": "stdout",
     "output_type": "stream",
     "text": [
      "Lorem ipsum dolor sit amet, consectetur adipiscing elit, \n",
      "\n",
      "sed do eiusmod tempor incididunt ut labore et dolore magna aliqua. \n",
      "\n"
     ]
    }
   ],
   "source": [
    "# readline() mode\n",
    "# this method reads the file line by line and returns only when next line is called\n",
    "\n",
    "obj2 = open(\"data_file.txt\", \"r\")\n",
    "\n",
    "line1 = obj2.readline()\n",
    "print(line1)\n",
    "\n",
    "line2 = obj2.readline()\n",
    "print(line2)"
   ]
  },
  {
   "cell_type": "code",
   "execution_count": 13,
   "id": "0f2321f9",
   "metadata": {},
   "outputs": [
    {
     "name": "stdout",
     "output_type": "stream",
     "text": [
      "Lorem ipsum dolor sit amet, consectetur adipiscing elit, \n",
      "%line ends%\n",
      "sed do eiusmod tempor incididunt ut labore et dolore magna aliqua. \n",
      "%line ends%\n",
      "Ut enim ad minim veniam, quis nostrud exercitation ullamco laboris nisi ut aliquip ex ea commodo consequat. \n",
      "%line ends%\n",
      "Duis aute irure dolor in reprehenderit in voluptate velit esse cillum dolore eu fugiat nulla pariatur. \n",
      "%line ends%\n",
      "Excepteur sint occaecat cupidatat non proident, sunt in culpa qui officia deserunt mollit anim id est laborum.%line ends%\n"
     ]
    }
   ],
   "source": [
    "# readlines() mode\n",
    "# this method reads all the lines of the file and returns them as a list of strings, where each string is a line of the file.\n",
    "\n",
    "obj3 = open(\"data_file.txt\", \"r\")\n",
    "\n",
    "lines = obj3.readlines()\n",
    "\n",
    "for i in lines:\n",
    "    print(i + \"%line ends%\")"
   ]
  },
  {
   "cell_type": "markdown",
   "id": "43896dd2",
   "metadata": {},
   "source": [
    "# Question 5"
   ]
  },
  {
   "cell_type": "markdown",
   "id": "25d5405c",
   "metadata": {},
   "source": [
    "The 'with' statement is used with the 'open()' function in Python to create a block of code that will automatically close the file after the block of code has executed. \n",
    "\n",
    "The advantage of using the 'with' statement with 'open()' is that it ensures that the file is closed properly, even if an error occurs during the execution of the code. For example, if an exception is raised inside the 'with' block, the file will still be closed before the exception is propagated to the calling code.\n",
    "\n",
    "Example:\n"
   ]
  },
  {
   "cell_type": "code",
   "execution_count": 16,
   "id": "2215586b",
   "metadata": {},
   "outputs": [],
   "source": [
    "with open(\"data_file.txt\", \"r\") as file_object:\n",
    "    # Do something with the file\n",
    "    pass\n",
    "# the file is automatically closed here"
   ]
  },
  {
   "cell_type": "markdown",
   "id": "cad0cc53",
   "metadata": {},
   "source": [
    "# Question 6"
   ]
  },
  {
   "cell_type": "markdown",
   "id": "0d728e1f",
   "metadata": {},
   "source": [
    "The 'write()' function is used to write a string to a file. If the file is opened in write mode (\"w\") or append mode (\"a\"), the 'write()' function will overwrite the existing file contents or add to them, respectively."
   ]
  },
  {
   "cell_type": "code",
   "execution_count": 17,
   "id": "e6a034f9",
   "metadata": {},
   "outputs": [],
   "source": [
    "file_object = open(\"example.txt\", \"w\")\n",
    "\n",
    "file_object.write(\"Hello, world!\")\n",
    "\n",
    "file_object.close()"
   ]
  },
  {
   "cell_type": "markdown",
   "id": "f586f664",
   "metadata": {},
   "source": [
    "The 'writelines()' function is used to write a list of strings to a file. Each string in the list is written to a separate line in the file."
   ]
  },
  {
   "cell_type": "code",
   "execution_count": 18,
   "id": "d12a3b0d",
   "metadata": {},
   "outputs": [],
   "source": [
    "file_object = open(\"example2.txt\", \"w\")\n",
    "\n",
    "lines = [\"Mudit\\n\", \"Gupta\\n\", \"Codemon\\n\"]\n",
    "file_object.writelines(lines)\n",
    "\n",
    "file_object.close()"
   ]
  },
  {
   "cell_type": "code",
   "execution_count": null,
   "id": "f713da66",
   "metadata": {},
   "outputs": [],
   "source": []
  }
 ],
 "metadata": {
  "kernelspec": {
   "display_name": "Python 3 (ipykernel)",
   "language": "python",
   "name": "python3"
  },
  "language_info": {
   "codemirror_mode": {
    "name": "ipython",
    "version": 3
   },
   "file_extension": ".py",
   "mimetype": "text/x-python",
   "name": "python",
   "nbconvert_exporter": "python",
   "pygments_lexer": "ipython3",
   "version": "3.10.4"
  }
 },
 "nbformat": 4,
 "nbformat_minor": 5
}
