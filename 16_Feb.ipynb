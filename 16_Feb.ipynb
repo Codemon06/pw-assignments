{
 "cells": [
  {
   "cell_type": "markdown",
   "id": "e675a143",
   "metadata": {},
   "source": [
    "# Question 1"
   ]
  },
  {
   "cell_type": "markdown",
   "id": "9dd3e84a",
   "metadata": {},
   "source": [
    "A database is an organized collection of data, typically stored electronically in a computer system. It is designed to efficiently manage, store, retrieve, and update information. A database consists of tables that hold related information, and each table consists of columns that define the specific types of data that can be stored in each row of the table. Databases are used in a variety of applications, such as accounting, customer relationship management, inventory management, and scientific research. They can be accessed and managed using a database management system (DBMS), which provides users with a variety of tools and interfaces to interact with the database\n",
    "\n",
    "SQL\n",
    ">SQL (Structured Query Language) is a programming language used to manage and manipulate relational databases. It is a standard language used in relational database management systems (RDBMS), such as MySQL. SQL allows users to create, modify, and delete tables, as well as retrieve and manipulate data stored in them. SQL uses a declarative approach to programming, meaning that users specify what they want to do with the data, rather than how to do it. In addition to querying and manipulating data, SQL also supports the creation and modification of database objects, such as tables, indexes, and views. SQL can also be used to define relationships between tables using foreign keys, which allow data to be joined across multiple tables.\n",
    "\n",
    "NoSQL\n",
    ">NoSQL (Not only SQL) is a term used to describe a wide range of database technologies that use non-relational data models to store and manage data. Unlike SQL databases, which are based on the relational data model, NoSQL databases use a variety of data models, including document-oriented, key-value, graph, and column-oriented. NoSQL databases are designed to handle large amounts of unstructured or semi-structured data, which may not fit well into the rigid structure of a relational database. They are often used in applications that require high scalability, flexibility, and performance, such as online gaming data. NoSQL databases typically provide flexible data models that allow for schema-free or dynamic schema designs, where data can be added or modified without having to pre-define a specific structure. For example, document-oriented NoSQL databases like MongoDB use a JSON-based query language, while key-value NoSQL databases like Redis use a simple key-value access pattern."
   ]
  },
  {
   "cell_type": "markdown",
   "id": "96109cec",
   "metadata": {},
   "source": [
    "# Question 2"
   ]
  },
  {
   "cell_type": "markdown",
   "id": "93eee486",
   "metadata": {},
   "source": [
    "DDL stands for Data Definition Language, which is a set of SQL statements used to define and modify the structure of database objects, such as tables, indexes, views, and constraints. DDL statements are used to create, modify, or delete database objects, and they typically include commands such as CREATE, ALTER, and DROP. For example, a CREATE TABLE statement is a DDL statement that is used to define a new table in a database, specifying its name, columns, data types, and any constraints.\n",
    "\n",
    "CREATE\n",
    ">The CREATE statement is used to create new database objects such as tables, views, and indexes. For example, to create a new table called \"employees\" with columns for name, age, and job title, you would use the following SQL statement:\n",
    ">>CREATE TABLE employees (\n",
    "   name VARCHAR(50),\n",
    "   age INT,\n",
    "   job_title VARCHAR(50)\n",
    ");\n",
    "\n",
    "ALTER\n",
    ">The ALTER statement is used to modify the structure of an existing database object. For example, to add a new column called \"salary\" to the \"employees\" table created above, you would use the following SQL statement:\n",
    ">>ALTER TABLE employees ADD COLUMN salary DECIMAL(10,2);\n",
    "\n",
    "DROP\n",
    ">The DROP statement is used to delete existing database objects such as tables, views, and indexes. For example, to delete the \"employees\" table created above, you would use the following SQL statement:\n",
    ">>DROP TABLE employees;\n",
    "\n",
    "TRUNCATE\n",
    ">The TRUNCATE statement is used to delete all rows from a table, while keeping the structure of the table intact. For example, to delete all rows from the \"employees\" table created above, you would use the following SQL statement:\n",
    ">>TRUNCATE TABLE employees;\n",
    "\n",
    "The difference between DROP and TRUNCATE is that the DROP command will delete the data and structure of the table while TRUNCATE command will preserve the structure but delete the data inside the table."
   ]
  },
  {
   "cell_type": "markdown",
   "id": "da8d635c",
   "metadata": {},
   "source": [
    "# Question 3"
   ]
  },
  {
   "cell_type": "markdown",
   "id": "a61724e3",
   "metadata": {},
   "source": [
    "DML stands for Data Manipulation Language, which is a subset of SQL statements used to manipulate or modify data stored in a database. DML statements can be used to manipulate data in various ways, such as filtering data based on specific criteria, sorting data in a particular order, and joining data from multiple tables. We can easily access, store, modify, update and delete the existing records from the database using DML commands.\n",
    "\n",
    "INSERT\n",
    ">The INSERT statement is used to insert new data into a table. For example, to insert a new record into the \"employees\" table with the name \"John Smith\", age 35, and job title \"Manager\", you would use the following SQL statement:\n",
    ">>INSERT INTO employees (name, age, job_title) VALUES ('John Smith', 35, 'Manager');\n",
    "\n",
    "UPDATE\n",
    ">The UPDATE statement is used to modify existing data in a table. For example, to update the job title of the employee with the name \"John Smith\" in the \"employees\" table to \"Senior Manager\", you would use the following SQL statement:\n",
    ">>UPDATE employees SET job_title = 'Senior Manager' WHERE name = 'John Smith';\n",
    "\n",
    "DELETE\n",
    ">The DELETE statement is used to delete data from a table. For example, to delete the record of the employee with the name \"John Smith\" from the \"employees\" table, you would use the following SQL statement:\n",
    ">>DELETE FROM employees WHERE name = 'John Smith';"
   ]
  },
  {
   "cell_type": "markdown",
   "id": "b2e2afba",
   "metadata": {},
   "source": [
    "# Question 4"
   ]
  },
  {
   "cell_type": "markdown",
   "id": "c617622d",
   "metadata": {},
   "source": [
    "DQL stands for \"Data Query Language\", which is a type of computer programming language used to retrieve and manipulate data stored in a database. In the context of relational databases, DQL is often used to refer to SQL SELECT statements.\n",
    "\n",
    "SELECT\n",
    ">SELECT is a DQL statement used to retrieve data from one or more tables in a database. The basic syntax of the SELECT statement is as follows:\n",
    ">>SELECT column1, column2, ... <br>\n",
    "FROM table_name <br>\n",
    "WHERE condition; <br>\n",
    "\n",
    ">Here is an example of a SELECT statement:\n",
    ">>SELECT first_name, last_name, email <br>\n",
    "FROM users<br>\n",
    "WHERE id = 123;\n",
    "\n",
    ">The result set returned by the SELECT statement would be a table containing the specified columns for the row that meets the specified condition, like this:\n",
    ">>| first_name | last_name | email                     |\n",
    "|------------|-----------|---------------------------|\n",
    "| John       | Smith     | john.smith@example.com |\n",
    "\n"
   ]
  },
  {
   "cell_type": "markdown",
   "id": "88897a8f",
   "metadata": {},
   "source": [
    "# Question 5"
   ]
  },
  {
   "cell_type": "markdown",
   "id": "64934808",
   "metadata": {},
   "source": [
    "Primary Key:\n",
    ">A primary key is a column or group of columns in a table that uniquely identifies each row in the table. A primary key is used to ensure that there are no duplicate rows in the table and to allow efficient searching and indexing of the table. The primary key is defined when the table is created and must be unique and non-null for each row in the table.<br><br>\n",
    "For example, consider a table named \"customers\" that has columns such as \"customer_id\", \"customer_name\", and \"customer_email\". If we want to make sure that no two customers have the same ID, we can define \"customer_id\" as the primary key for the table. This means that each row in the table must have a unique value for \"customer_id\", and the database system will enforce this constraint.\n",
    "\n",
    "Foreign Key:\n",
    ">A foreign key is a column or group of columns in one table that refers to the primary key of another table. A foreign key is used to establish a relationship between two tables and enforce referential integrity between them. When a foreign key is defined in a table, it ensures that the values in that column must match the values of the primary key in another table.<br><br>\n",
    "For example, consider a table named \"orders\" that has columns such as \"order_id\", \"cust_id\", \"prod_name\". If we want to attach the order of a customers then we can use \"customer_id\" column as a foriegn key so that details of order can be attached with the customer.\n",
    "\n"
   ]
  },
  {
   "cell_type": "markdown",
   "id": "35e2c507",
   "metadata": {},
   "source": [
    "# Question 6"
   ]
  },
  {
   "cell_type": "markdown",
   "id": "4d9edf5c",
   "metadata": {},
   "source": [
    "Python code to connect MySQL to python:\n",
    "\n",
    ">import mysql.connector<br>\n",
    "mydb = mysql.connector.connect(<br>\n",
    "  host=\"localhost\",<br>\n",
    "  user=\"root\",<br>\n",
    "  password=\"password\"<br>\n",
    ")<br>\n",
    "mycursor = mydb.cursor()<br>\n",
    "mycursor.execute(\"CREATE database if not exixt test\")<br>\n",
    "mydb.close()\n",
    "\n",
    "In Python, the cursor() and execute() methods are commonly used in database programming for interacting with databases.\n",
    "\n",
    "cursor():\n",
    ">In MySQL, the 'cursor()' method creates a cursor object that allows Python code to interact with the database. The cursor object provides methods for executing SQL statements and fetching results from the database.<br>Example:\n",
    ">>import mysql.connector<br><br>\n",
    "  mydb = mysql.connector.connect(<br>user='username', <br>password='password', <br>host='localhost')<br><br>\n",
    "cursor = mydb.cursor()<br>\n",
    "\n",
    "\n",
    "execute():\n",
    ">The 'execute()' method is called on the cursor object to execute SQL statements. The SQL statement can be passed as a string to the 'execute()' method.<br>Example:\n",
    ">>cursor.execute(\"CREATE database test\")<br>mydb.commit()\n",
    "\n",
    ">This command will create a database 'test' in MySQL and after completing the command we need to commit the changes."
   ]
  },
  {
   "cell_type": "markdown",
   "id": "81fa42c1",
   "metadata": {},
   "source": [
    "# Question 7"
   ]
  },
  {
   "cell_type": "markdown",
   "id": "b5525d28",
   "metadata": {},
   "source": [
    "In SQL, the order of execution of SQL clauses in an SQL query is:\n",
    "\n",
    "1. FROM: The FROM clause is the first clause that is executed in an SQL query. It specifies the table or tables from which data is being retrieved.<br>\n",
    "\n",
    "2. WHERE: The WHERE clause is executed after the FROM clause. It is used to filter the rows returned by the query based on specified conditions.<br>\n",
    "\n",
    "3. GROUP BY: The GROUP BY clause is executed after the WHERE clause. It is used to group the rows returned by the query based on one or more columns.<br>\n",
    "\n",
    "4. HAVING: The HAVING clause is executed after the GROUP BY clause. It is used to filter the groups returned by the query based on specified conditions.<br>\n",
    "\n",
    "5. SELECT: The SELECT clause is executed after the HAVING clause. It is used to specify which columns to retrieve from the tables specified in the FROM clause.<br>\n",
    "\n",
    "6. DISTINCT: The DISTINCT keyword is executed after the SELECT clause. It is used to eliminate duplicate rows from the result set.<br>\n",
    "\n",
    "7. ORDER BY: The ORDER BY clause is executed after the SELECT clause. It is used to sort the result set based on one or more columns.<br>\n",
    "\n",
    "8. LIMIT: The LIMIT clause is executed last. It is used to limit the number of rows returned by the query.<br>"
   ]
  },
  {
   "cell_type": "code",
   "execution_count": null,
   "id": "19d83607",
   "metadata": {},
   "outputs": [],
   "source": []
  }
 ],
 "metadata": {
  "kernelspec": {
   "display_name": "Python 3 (ipykernel)",
   "language": "python",
   "name": "python3"
  },
  "language_info": {
   "codemirror_mode": {
    "name": "ipython",
    "version": 3
   },
   "file_extension": ".py",
   "mimetype": "text/x-python",
   "name": "python",
   "nbconvert_exporter": "python",
   "pygments_lexer": "ipython3",
   "version": "3.10.4"
  }
 },
 "nbformat": 4,
 "nbformat_minor": 5
}
