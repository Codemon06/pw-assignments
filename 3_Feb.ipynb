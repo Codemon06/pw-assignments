{
 "cells": [
  {
   "cell_type": "markdown",
   "id": "ab24ba45",
   "metadata": {},
   "source": [
    "# Question 1"
   ]
  },
  {
   "cell_type": "markdown",
   "id": "00c97900",
   "metadata": {},
   "source": [
    "-> 'def' keyword is used to create a function in python."
   ]
  },
  {
   "cell_type": "code",
   "execution_count": 1,
   "id": "c0969fb1",
   "metadata": {},
   "outputs": [],
   "source": [
    "def odd_num(n):\n",
    "    l = []\n",
    "    for i in range(1,n):\n",
    "        if(i%2 == 1):\n",
    "            l.append(i)\n",
    "    return l"
   ]
  },
  {
   "cell_type": "code",
   "execution_count": 2,
   "id": "308799e0",
   "metadata": {},
   "outputs": [
    {
     "data": {
      "text/plain": [
       "[1, 3, 5, 7, 9, 11, 13, 15, 17, 19, 21, 23]"
      ]
     },
     "execution_count": 2,
     "metadata": {},
     "output_type": "execute_result"
    }
   ],
   "source": [
    "n = 25\n",
    "odd_num(n)"
   ]
  },
  {
   "cell_type": "markdown",
   "id": "2ae54fad",
   "metadata": {},
   "source": [
    "# Question 2"
   ]
  },
  {
   "cell_type": "markdown",
   "id": "d358eb60",
   "metadata": {},
   "source": [
    "'*args' is used to take n input arguments of linear data type like list, tuples, int, float, string.\n",
    "\n",
    "'**kwargs' is also used to take n input arguments but in 'key:value' pair ie dictionary."
   ]
  },
  {
   "cell_type": "code",
   "execution_count": 3,
   "id": "f9febb82",
   "metadata": {},
   "outputs": [],
   "source": [
    "def fun_args(*args):\n",
    "    \"\"\"This function is used to elaborate the *args use.\"\"\"\n",
    "    s = 0\n",
    "    for i in args:\n",
    "        s += i\n",
    "    return s"
   ]
  },
  {
   "cell_type": "code",
   "execution_count": 4,
   "id": "af380a9c",
   "metadata": {},
   "outputs": [],
   "source": [
    "def fun_kwargs(**kwargs):\n",
    "    \"\"\"This function is used to elaborate the **kwargs use.\"\"\"\n",
    "    for i, j in kwargs.items():\n",
    "        print(i,\":\",j)"
   ]
  },
  {
   "cell_type": "code",
   "execution_count": 5,
   "id": "af428a45",
   "metadata": {},
   "outputs": [
    {
     "data": {
      "text/plain": [
       "21"
      ]
     },
     "execution_count": 5,
     "metadata": {},
     "output_type": "execute_result"
    }
   ],
   "source": [
    "fun_args(1,2,3,4,5,6)"
   ]
  },
  {
   "cell_type": "code",
   "execution_count": 6,
   "id": "da2b8ca4",
   "metadata": {},
   "outputs": [
    {
     "name": "stdout",
     "output_type": "stream",
     "text": [
      "a : Mudit\n",
      "b : Gupta\n",
      "c : AIML\n"
     ]
    }
   ],
   "source": [
    "fun_kwargs(a = \"Mudit\" , b = \"Gupta\" , c = \"AIML\")"
   ]
  },
  {
   "cell_type": "markdown",
   "id": "4c22216b",
   "metadata": {},
   "source": [
    "# Question 3 "
   ]
  },
  {
   "cell_type": "markdown",
   "id": "fae365ca",
   "metadata": {},
   "source": [
    "An iterator is an object which can be iterated ie we can traverse through all values of it. The method used to initialise the iterator object is 'iter()' and the method used for iteration is 'next()."
   ]
  },
  {
   "cell_type": "code",
   "execution_count": 7,
   "id": "88f10bc6",
   "metadata": {},
   "outputs": [
    {
     "name": "stdout",
     "output_type": "stream",
     "text": [
      "2\n",
      "4\n",
      "6\n",
      "8\n",
      "10\n"
     ]
    }
   ],
   "source": [
    "l = [2, 4, 6, 8, 10, 12, 14, 16, 18, 20]\n",
    "acc = iter(l)\n",
    "\n",
    "for _ in range(5):\n",
    "    print(next(acc))"
   ]
  },
  {
   "cell_type": "markdown",
   "id": "c99a9d3f",
   "metadata": {},
   "source": [
    "# Question 4"
   ]
  },
  {
   "cell_type": "markdown",
   "id": "cb7744ec",
   "metadata": {},
   "source": [
    "A Python generator function allows you to declare a function that behaves like an iterator, providing a faster and easier way to create iterators.\n",
    "'yield' keyword is used to generate and give output when the generator function is called."
   ]
  },
  {
   "cell_type": "code",
   "execution_count": 8,
   "id": "f28f719b",
   "metadata": {},
   "outputs": [
    {
     "name": "stdout",
     "output_type": "stream",
     "text": [
      "Generator Function: <generator object gen_fun at 0x000001682EA680B0>\n"
     ]
    },
    {
     "data": {
      "text/plain": [
       "[1, 6, 11, 16, 21, 26, 31, 36, 41, 46, 51, 56, 61, 66, 71, 76, 81, 86, 91, 96]"
      ]
     },
     "execution_count": 8,
     "metadata": {},
     "output_type": "execute_result"
    }
   ],
   "source": [
    "def gen_fun():\n",
    "    for i in range(1,100,5):\n",
    "        yield i\n",
    "        \n",
    "print(\"Generator Function:\", gen_fun())\n",
    "list(gen_fun())"
   ]
  },
  {
   "cell_type": "markdown",
   "id": "aa73fad1",
   "metadata": {},
   "source": [
    "# Question 5"
   ]
  },
  {
   "cell_type": "code",
   "execution_count": 9,
   "id": "e98d0366",
   "metadata": {},
   "outputs": [],
   "source": [
    "def gen_prime():\n",
    "    yield 2\n",
    "    a = 3\n",
    "    while a<1000:\n",
    "        l = 0\n",
    "        for i in range (1,a+1):\n",
    "            if(a%i == 0):\n",
    "                l += 1\n",
    "        if(l==2):\n",
    "            yield a\n",
    "        a += 1"
   ]
  },
  {
   "cell_type": "code",
   "execution_count": 10,
   "id": "05944a39",
   "metadata": {},
   "outputs": [
    {
     "name": "stdout",
     "output_type": "stream",
     "text": [
      "2\n",
      "3\n",
      "5\n",
      "7\n",
      "11\n",
      "13\n",
      "17\n",
      "19\n",
      "23\n",
      "29\n",
      "31\n",
      "37\n",
      "41\n",
      "43\n",
      "47\n",
      "53\n",
      "59\n",
      "61\n",
      "67\n",
      "71\n"
     ]
    }
   ],
   "source": [
    "p = gen_prime()\n",
    "for i in range(20):\n",
    "    print(next(p))"
   ]
  },
  {
   "cell_type": "markdown",
   "id": "c0876a60",
   "metadata": {},
   "source": [
    "# Question 6"
   ]
  },
  {
   "cell_type": "code",
   "execution_count": 15,
   "id": "2e3f1172",
   "metadata": {},
   "outputs": [
    {
     "name": "stdout",
     "output_type": "stream",
     "text": [
      "Fibonacci Series upto 10 place:\n",
      "\n",
      "0\n",
      "1\n",
      "1\n",
      "2\n",
      "3\n",
      "5\n",
      "8\n",
      "13\n",
      "21\n",
      "34\n"
     ]
    }
   ],
   "source": [
    "print(\"Fibonacci Series upto 10 place:\\n\")\n",
    "n = 0\n",
    "a , b = 0, 1\n",
    "while(n<10):\n",
    "    print(a)\n",
    "    a , b = b, a+b\n",
    "    n = n+1"
   ]
  },
  {
   "cell_type": "markdown",
   "id": "c735c5af",
   "metadata": {},
   "source": [
    "# Question 7"
   ]
  },
  {
   "cell_type": "code",
   "execution_count": 20,
   "id": "959881a8",
   "metadata": {},
   "outputs": [
    {
     "name": "stdout",
     "output_type": "stream",
     "text": [
      "List Comprehension:\n",
      "\n"
     ]
    },
    {
     "data": {
      "text/plain": [
       "['p', 'w', 's', 'k', 'i', 'l', 'l', 's']"
      ]
     },
     "execution_count": 20,
     "metadata": {},
     "output_type": "execute_result"
    }
   ],
   "source": [
    "s = 'pwskills'\n",
    "print(\"List Comprehension:\\n\")\n",
    "list(x for x in s)"
   ]
  },
  {
   "cell_type": "markdown",
   "id": "428dedaa",
   "metadata": {},
   "source": [
    "# Question 8"
   ]
  },
  {
   "cell_type": "code",
   "execution_count": 29,
   "id": "57c771db",
   "metadata": {},
   "outputs": [
    {
     "name": "stdout",
     "output_type": "stream",
     "text": [
      "Enter the number: 121\n",
      "Palindrome\n"
     ]
    }
   ],
   "source": [
    "n = int(input(\"Enter the number: \"))\n",
    "r = 0\n",
    "temp = n\n",
    "while(n>0):\n",
    "    r = (r*10) + (n%10)\n",
    "    n = n//10\n",
    "if(r == temp):\n",
    "    print(\"Palindrome\")\n",
    "else:\n",
    "    print(\"Not Palindrome\")"
   ]
  },
  {
   "cell_type": "markdown",
   "id": "3361f184",
   "metadata": {},
   "source": [
    "# Question 9"
   ]
  },
  {
   "cell_type": "code",
   "execution_count": 33,
   "id": "10394f4f",
   "metadata": {},
   "outputs": [
    {
     "name": "stdout",
     "output_type": "stream",
     "text": [
      "Odd numbers are:  [1, 3, 5, 7, 9, 11, 13, 15, 17, 19, 21, 23, 25, 27, 29, 31, 33, 35, 37, 39, 41, 43, 45, 47, 49, 51, 53, 55, 57, 59, 61, 63, 65, 67, 69, 71, 73, 75, 77, 79, 81, 83, 85, 87, 89, 91, 93, 95, 97, 99]\n"
     ]
    }
   ],
   "source": [
    "l = [x for x in range(1,101) if x%2 == 1]\n",
    "print(\"Odd numbers are: \",l)"
   ]
  },
  {
   "cell_type": "code",
   "execution_count": null,
   "id": "c309dc09",
   "metadata": {},
   "outputs": [],
   "source": []
  }
 ],
 "metadata": {
  "kernelspec": {
   "display_name": "Python 3 (ipykernel)",
   "language": "python",
   "name": "python3"
  },
  "language_info": {
   "codemirror_mode": {
    "name": "ipython",
    "version": 3
   },
   "file_extension": ".py",
   "mimetype": "text/x-python",
   "name": "python",
   "nbconvert_exporter": "python",
   "pygments_lexer": "ipython3",
   "version": "3.10.4"
  }
 },
 "nbformat": 4,
 "nbformat_minor": 5
}
