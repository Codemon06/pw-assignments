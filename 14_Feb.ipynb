{
 "cells": [
  {
   "cell_type": "markdown",
   "id": "41c0870a",
   "metadata": {},
   "source": [
    "# Question 1"
   ]
  },
  {
   "cell_type": "markdown",
   "id": "049daf08",
   "metadata": {},
   "source": [
    "Multithreading in Python refers to the ability of a program to run multiple threads of execution concurrently within a single process. A thread is a lightweight unit of execution within a process, and multithreading allows multiple threads to execute simultaneously, potentially improving performance and responsiveness.\n",
    "\n",
    "Multithreading is used in Python for improved performance, improved responsiveness and simplified programming. However, it's important to note that multithreading can also introduce additional complexity and potential issues, such as race conditions and deadlocks, so it's important to use it judiciously and with caution.\n",
    "\n",
    "Module used to handle threads in python is 'threading'."
   ]
  },
  {
   "cell_type": "markdown",
   "id": "aa87f727",
   "metadata": {},
   "source": [
    "# Question 2"
   ]
  },
  {
   "cell_type": "markdown",
   "id": "cb20792f",
   "metadata": {},
   "source": [
    "The 'threading' module in Python is used to create and manage threads in a program. A thread is a separate flow of execution within a program, and using multiple threads can allow a program to perform multiple tasks concurrently.\n",
    "\n",
    ">'activeCount()' is a method provided by the 'threading' module in Python. It returns the number of currently active thread objects in the current thread's thread group.\n",
    "\n",
    ">'currentThread()' is a method provided by the 'threading' module in Python. It returns a 'Thread' object representing the current thread of execution.\n",
    "\n",
    ">'enumerate()' can be used in conjunction with the 'threading' module in Python to get a list of all currently running threads. The 'threading' module provides a 'enumerate()' method that returns a list of all 'Thread' objects currently active in the program."
   ]
  },
  {
   "cell_type": "markdown",
   "id": "d3fc6c75",
   "metadata": {},
   "source": [
    "# Question 3"
   ]
  },
  {
   "cell_type": "markdown",
   "id": "9af19a51",
   "metadata": {},
   "source": [
    "> 'run()' :- \n",
    ">>'run()' is a method provided by the 'Thread' class in Python's 'threading' module. It is the method that is called when you start a new thread using the start() method of a 'Thread' object. When you create a new 'thread' using the 'Thread' class, you can specify a callable object as the 'target' for the new 'thread'. The 'run()' method of the 'Thread' object will then call the specified callable object when the thread starts.\n",
    "\n",
    ">'start()' :-\n",
    ">>'start()' is a method provided by the 'Thread' class in Python's 'threading module'. It is used to start a new thread of execution. When you create a new thread using the 'Thread' class, you can specify a callable object as the target for the new thread. Once you have created the 'Thread' object, you can start the new thread using the start() method.\n",
    "\n",
    ">'join()' :-\n",
    ">>'join()' is a method provided by the 'Thread' class in Python's 'threading' module. It is used to wait for a thread to complete its execution. When you start a new thread using the 'start()' method of a 'Thread' object, the new thread runs in the background and the main thread continues executing. If you want the main thread to wait for the new thread to complete before continuing, you can call the 'join()' method on the 'Thread' object.\n",
    "\n",
    "> 'isAlive()' :-\n",
    ">>'isAlive()' is a method provided by the 'Thread' class in Python's 'threading' module. It is used to check whether a thread is currently running. When you start a new thread using the 'start()' method of a 'Thread' object, the new thread runs in the background and the main thread continues executing. If you want to check whether the new thread is still running, you can call the 'isAlive()' method on the 'Thread' object."
   ]
  },
  {
   "cell_type": "markdown",
   "id": "e3dfb8ae",
   "metadata": {},
   "source": [
    "# Question 4"
   ]
  },
  {
   "cell_type": "code",
   "execution_count": 10,
   "id": "9597a15e",
   "metadata": {},
   "outputs": [
    {
     "name": "stdout",
     "output_type": "stream",
     "text": [
      "Square of 1 is 1\n",
      "Square of 2 is 4\n",
      "Square of 3 is 9\n",
      "Square of 4 is 16\n",
      "Square of 5 is 25\n",
      "Square of 6 is 36\n",
      "Square of 7 is 49\n",
      "Square of 8 is 64\n",
      "Square of 9 is 81\n",
      "Square of 10 is 100\n",
      "Cube of 1 is 1\n",
      "Cube of 2 is 8\n",
      "Cube of 3 is 27\n",
      "Cube of 4 is 64\n",
      "Cube of 5 is 125\n",
      "Cube of 6 is 216\n",
      "Cube of 7 is 343\n",
      "Cube of 8 is 512\n",
      "Cube of 9 is 729\n",
      "Cube of 10 is 1000\n"
     ]
    }
   ],
   "source": [
    "import threading\n",
    "\n",
    "def print_squares():\n",
    "    for i in range(1, 11):\n",
    "        print(f\"Square of {i} is {i*i}\")\n",
    "\n",
    "def print_cubes():\n",
    "    for i in range(1, 11):\n",
    "        print(f\"Cube of {i} is {i*i*i}\")\n",
    "\n",
    "t1 = threading.Thread(target=print_squares)\n",
    "t2 = threading.Thread(target=print_cubes)\n",
    "\n",
    "t1.start()\n",
    "t2.start()\n",
    "\n",
    "t1.join()\n",
    "t2.join()"
   ]
  },
  {
   "cell_type": "markdown",
   "id": "83eef3c0",
   "metadata": {},
   "source": [
    "# Question 5"
   ]
  },
  {
   "cell_type": "markdown",
   "id": "37268117",
   "metadata": {},
   "source": [
    "Multithreading is a popular technique in Python programming for executing multiple threads of a program concurrently. \n",
    "Here are some advantages and disadvantages of multithreading in Python:\n",
    "\n",
    "Advantages: \n",
    "\n",
    "1. Improved performance: Multithreading allows different parts of a program to execute concurrently, making better use of the available resources and potentially reducing the overall execution time.\n",
    "2. Responsiveness: Multithreading can make a program more responsive to user input by allowing some parts of the program to continue running while others wait for input or perform other tasks.\n",
    "3. Resource sharing: Multiple threads can share the same memory, file handles, and other system resources, allowing more efficient use of these resources and reducing the amount of memory required by the program.\n",
    "4. Simplified programming: Multithreading allows complex programs to be broken down into simpler parts that can be executed concurrently, making it easier to develop and maintain large applications.\n",
    "\n",
    "Disadvantages: \n",
    "\n",
    "1. Global Interpreter Lock (GIL): Python has a GIL that ensures that only one thread can execute Python code at a time, even on multi-core machines. This can limit the potential benefits of multithreading in Python for CPU-bound tasks.\n",
    "2. Increased complexity: Multithreaded programs can be more difficult to write, debug, and maintain than single-threaded programs due to the additional coordination required between the threads.\n",
    "3. Race conditions: When multiple threads access shared resources, it can lead to race conditions where the results of the program depend on the timing of the individual threads.\n",
    "3. Overhead: Multithreading can introduce additional overhead due to the need to coordinate the activities of multiple threads and synchronize access to shared resources."
   ]
  },
  {
   "cell_type": "markdown",
   "id": "259055fc",
   "metadata": {},
   "source": [
    "# Question 6"
   ]
  },
  {
   "cell_type": "markdown",
   "id": "911ae737",
   "metadata": {},
   "source": [
    "Deadlock and race conditions are two common issues that can occur in multithreaded programming.\n",
    "\n",
    ">Deadlock occurs when two or more threads are waiting for each other to release resources that they hold, leading to a situation where none of the threads can proceed. This can occur when multiple threads acquire locks on shared resources in different orders, and then attempt to acquire additional locks while still holding the previous locks.\n",
    ">>For example, suppose we have two threads, T1 and T2, and two resources, R1 and R2. If T1 acquires R1 and then attempts to acquire R2 while T2 has already acquired R2 and is waiting for R1 to be released by T1, then a deadlock can occur.\n",
    "\n",
    "\n",
    "\n",
    ">Race conditions occur when two or more threads access shared resources in an unpredictable order, leading to incorrect or unpredictable results. This can occur when multiple threads access a shared resource without proper synchronization, such as using locks or other mechanisms to ensure that only one thread can access the resource at a time. \n",
    ">>For example, suppose we have two threads, T1 and T2, and a shared variable, x. If T1 and T2 both read the value of x, perform some computation based on that value, and then write the result back to x, then a race condition can occur if the order in which they read and write the value of x is not synchronized properly."
   ]
  },
  {
   "cell_type": "code",
   "execution_count": null,
   "id": "409185b5",
   "metadata": {},
   "outputs": [],
   "source": []
  }
 ],
 "metadata": {
  "kernelspec": {
   "display_name": "Python 3 (ipykernel)",
   "language": "python",
   "name": "python3"
  },
  "language_info": {
   "codemirror_mode": {
    "name": "ipython",
    "version": 3
   },
   "file_extension": ".py",
   "mimetype": "text/x-python",
   "name": "python",
   "nbconvert_exporter": "python",
   "pygments_lexer": "ipython3",
   "version": "3.10.4"
  }
 },
 "nbformat": 4,
 "nbformat_minor": 5
}
