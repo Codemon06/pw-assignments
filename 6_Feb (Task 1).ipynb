{
 "cells": [
  {
   "cell_type": "markdown",
   "id": "2aa6c512",
   "metadata": {},
   "source": [
    "# Question 1"
   ]
  },
  {
   "cell_type": "code",
   "execution_count": 1,
   "id": "94f1edc7",
   "metadata": {},
   "outputs": [],
   "source": [
    "def prod(list1):\n",
    "    p = 1\n",
    "    for i in list1:\n",
    "        if(type(i) == int or type(i) == float):\n",
    "            p *= i\n",
    "        if type(i) == list or type(i) == tuple or type(i) == set:\n",
    "            for j in i:\n",
    "                if type(j) == int or type(j) == float:\n",
    "                    p *= j\n",
    "        if type(i) == dict:\n",
    "            for k,v in i.items():\n",
    "                if type(k) == int:\n",
    "                    p *= k\n",
    "                if type(v) == int:\n",
    "                    p *= v \n",
    "                if type(k) == list or type(k) == tuple :\n",
    "                    for a in k:\n",
    "                        if(type(a) == int or type(a) == float):\n",
    "                            p *= a\n",
    "                if type(v) == list or type(v) == tuple:\n",
    "                    for b in v:\n",
    "                        if(type(b) == int or type(b) == float):\n",
    "                            p *= b\n",
    "    return p"
   ]
  },
  {
   "cell_type": "code",
   "execution_count": 2,
   "id": "b584995e",
   "metadata": {},
   "outputs": [],
   "source": [
    "list1 = [1,2,3,4, [44,55,66, True], False, (34,56,78,89,34), {1,2,3,3,2,1}, {1:34, \"key2\": [55, 67, 78, 89], 4: (45,\n",
    "22, 61, 34)}, [56, 'data science'], 'Machine Learning']"
   ]
  },
  {
   "cell_type": "code",
   "execution_count": 3,
   "id": "721e355d",
   "metadata": {},
   "outputs": [
    {
     "name": "stdout",
     "output_type": "stream",
     "text": [
      "Product is:  4134711838987085478833841242112000\n"
     ]
    }
   ],
   "source": [
    "result = prod(list1)\n",
    "print(\"Product is: \", result)"
   ]
  },
  {
   "cell_type": "markdown",
   "id": "83b40509",
   "metadata": {},
   "source": [
    "# Question 2"
   ]
  },
  {
   "cell_type": "code",
   "execution_count": 26,
   "id": "f63bc486",
   "metadata": {},
   "outputs": [],
   "source": [
    "def mirror(my_str):\n",
    "    res = str()\n",
    "    for i in my_str:\n",
    "        if(i == \" \"):\n",
    "            res += '$'\n",
    "        elif(i.isalnum() == True):\n",
    "            res += chr(ord('z') - ord(i) + 97)\n",
    "        else:\n",
    "            continue\n",
    "    return res"
   ]
  },
  {
   "cell_type": "code",
   "execution_count": 27,
   "id": "422540d0",
   "metadata": {},
   "outputs": [
    {
     "name": "stdout",
     "output_type": "stream",
     "text": [
      "Encrypted String is :  r$dzmg$gl$yvxlnv$z$wzgz$hxrvmgrhg\n"
     ]
    }
   ],
   "source": [
    "my_str = \"I want to become a Data Scientist.\"\n",
    "my_str = my_str.lower()\n",
    "encr = mirror(my_str)\n",
    "print(\"Encrypted String is : \",encr)"
   ]
  },
  {
   "cell_type": "code",
   "execution_count": null,
   "id": "7d77c4c9",
   "metadata": {},
   "outputs": [],
   "source": []
  }
 ],
 "metadata": {
  "kernelspec": {
   "display_name": "Python 3 (ipykernel)",
   "language": "python",
   "name": "python3"
  },
  "language_info": {
   "codemirror_mode": {
    "name": "ipython",
    "version": 3
   },
   "file_extension": ".py",
   "mimetype": "text/x-python",
   "name": "python",
   "nbconvert_exporter": "python",
   "pygments_lexer": "ipython3",
   "version": "3.10.4"
  }
 },
 "nbformat": 4,
 "nbformat_minor": 5
}
