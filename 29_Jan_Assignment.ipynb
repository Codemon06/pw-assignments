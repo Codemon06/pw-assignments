{
 "cells": [
  {
   "cell_type": "markdown",
   "id": "db15a1ae-dca2-4869-9410-66c8482dd9df",
   "metadata": {},
   "source": [
    "Answer - 1 :\n",
    "Guido van Rossum is developer of Python Language."
   ]
  },
  {
   "cell_type": "markdown",
   "id": "ca30813e-71b7-4b0d-844c-f43ea1f71817",
   "metadata": {},
   "source": [
    "Answer - 2 :\n",
    "Python is an interpreted programming language, supporting object-oriented, structured, and functional programming."
   ]
  },
  {
   "cell_type": "markdown",
   "id": "c8bc6b58-f51c-4ea2-84df-f66b825e4be7",
   "metadata": {},
   "source": [
    "Answer - 3 : \n",
    "Yes, Python is case sensitive language."
   ]
  },
  {
   "cell_type": "markdown",
   "id": "e57736e7-5761-45ff-bfea-36074a29ebfb",
   "metadata": {},
   "source": [
    "Answer - 4 : \n",
    "Extension is '.py'"
   ]
  },
  {
   "cell_type": "markdown",
   "id": "684c0189-e46d-4205-903d-3961c3354532",
   "metadata": {},
   "source": [
    "Answer - 5 : \n",
    "Interpreted Language."
   ]
  },
  {
   "cell_type": "markdown",
   "id": "0b802520-924c-4a5d-9cc5-435449080eac",
   "metadata": {},
   "source": [
    "Answer - 6 : \n",
    "Following are the blocks in Python : \n",
    "a). a module\n",
    "b). a function body\n",
    "c). a class definition"
   ]
  },
  {
   "cell_type": "markdown",
   "id": "5a9bf7f0-7516-4bc2-a05a-cd9603fd60e0",
   "metadata": {},
   "source": [
    "Answer - 7 : \n",
    "'#' is used to make a single-line comments"
   ]
  },
  {
   "cell_type": "markdown",
   "id": "94597c5c-3e9f-4f4f-a490-dcabe0f0100a",
   "metadata": {},
   "source": [
    "Answer - 8 : \n",
    "a).We can use the command 'python --version' in Windows Terminal to check the    version of python.\n",
    "\nb).We can also use the code:\n",
    "   \n",
    "    import sys\n",
    "    print(sys.version)\n",
    "   \n",
    "   \tIt will display the version."
   ]
  },
  {
   "cell_type": "markdown",
   "id": "21bb8b0e-5988-493b-8969-679204ca0764",
   "metadata": {},
   "source": [
    "Answer - 9 : \n",
    "It's the 'lambda' construct."
   ]
  },
  {
   "cell_type": "markdown",
   "id": "012d34a2-9f60-4fa8-978a-92a54291e152",
   "metadata": {},
   "source": [
    "Answer - 10 : \n",
    "pip stands for Performance Improvement Plan."
   ]
  },
  {
   "cell_type": "markdown",
   "id": "1e729e1c-d4da-472d-b125-04cc6359d02b",
   "metadata": {},
   "source": [
    "Answeer - 11 : \n",
    "Few built-in functions are:\n",
    "-> type()\n",
    "-> input()\n",
    "-> print()\n",
    "-> int()\n",
    "-> str()\n",
    "-> list()\n",
    "-> float()\n",
    "-> len()"
   ]
  },
  {
   "cell_type": "markdown",
   "id": "f61ec194-10a5-45b1-aa41-4d57206bb936",
   "metadata": {},
   "source": [
    "Answer - 12 : \n",
    "It's 79 characters."
   ]
  },
  {
   "cell_type": "markdown",
   "id": "9bab7449-3241-44a7-a178-eeb8b0a50e85",
   "metadata": {},
   "source": [
    "Answer - 13 : \n",
    "Benefits of using Python:\n",
    "-> It is easy to understand.\n",
    "-> Many built-in functions to save time.\n",
    "-> Less Complex.\n",
    "-> Widely used in todays world and modern industries.\n",
    "-> Used in technical field like Data Science, Machine Learning, Web  Development, etc.\n",
    "-> Open-Source\n",
    "-> Portable"
   ]
  },
  {
   "cell_type": "markdown",
   "id": "ef3be1e9-bd71-491e-85b8-27a2ef5b525e",
   "metadata": {},
   "source": [
    "Answer - 14 : \n",
    "Memory is managed in private heap containing Python objects and data structures."
   ]
  },
  {
   "cell_type": "markdown",
   "id": "5d9ed952-884d-45db-8c1e-cc2292fa5e77",
   "metadata": {},
   "source": [
    "Answer - 15 : \n",
    "From the official site of Python (www.python.org) we can download the required version of python on our PC.\n",
    "Right now, the variable path is automatically done during the installation time. But if it is not done, we can set the variable path in the 'User Variables' section in system settings.\n",
    "Just edit the 'Environment Variable' and add the path of 'bin' folder of python in it and click save. "
   ]
  },
  {
   "cell_type": "markdown",
   "id": "bb816b72-ef50-4dc3-82e4-b199730abf01",
   "metadata": {},
   "source": [
    "Answer - 16 : \n",
    "Yes, indentation is very much required in Python. Without indentation, the interpreter will not able to understand the code and will raise error."
   ]
  },
  {
   "cell_type": "markdown",
   "id": "eb87cdcd-ac42-4d17-96f3-87a86b4638fd",
   "metadata": {},
   "source": []
  },
  {
   "cell_type": "markdown",
   "id": "633b88a9-653b-4ef4-b548-0ac4eb9d3653",
   "metadata": {},
   "source": []
  },
  {
   "cell_type": "code",
   "execution_count": null,
   "id": "819f6486-6e2f-4e6c-803c-72929188b7c3",
   "metadata": {},
   "outputs": [],
   "source": []
  }
 ],
 "metadata": {
  "kernelspec": {
   "display_name": "Python 3 (ipykernel)",
   "language": "python",
   "name": "python3"
  },
  "language_info": {
   "codemirror_mode": {
    "name": "ipython",
    "version": 3
   },
   "file_extension": ".py",
   "mimetype": "text/x-python",
   "name": "python",
   "nbconvert_exporter": "python",
   "pygments_lexer": "ipython3",
   "version": "3.10.8"
  }
 },
 "nbformat": 4,
 "nbformat_minor": 5
}
